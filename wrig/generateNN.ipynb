{
 "cells": [
  {
   "cell_type": "code",
   "execution_count": 2,
   "id": "3688f036",
   "metadata": {},
   "outputs": [],
   "source": [
    "# import sys\n",
    "import xml.etree.ElementTree as ET\n",
    "import re\n",
    "from tqdm import tqdm\n",
    "from nltk.stem import PorterStemmer\n",
    "\n",
    "import gensim\n",
    "\n",
    "args = ['./data/pass_full.queries', 'trec678.vec.txt', 'TREC_DL.NN']\n",
    "if len(args) < 3:\n",
    "    # print('Needs 2 arguments - \\n1. TREC original query file (.xml format)\\n'\n",
    "    #       '2. word2vec file (.txt)\\n'\n",
    "    #       '3. <query-term \\t NN-list> output file path')\n",
    "    print('Needs 3 arguments - \\n1. TREC original query file (a txt file)\\n'\n",
    "          '2. word2vec file (.txt)\\n'\n",
    "          '3. <query-term \\t NN-list> output file path')\n",
    "#     exit(0)\n",
    "\n",
    "arg_trec_query_file = args[0]\n",
    "arg_w2v_file = args[1]\n",
    "arg_nn_out_file = args[2]\n",
    "\n",
    "fw_NN_terms = open(f'./output/{arg_nn_out_file}', 'w+')\n"
   ]
  },
  {
   "cell_type": "code",
   "execution_count": 3,
   "id": "de69ec65",
   "metadata": {},
   "outputs": [
    {
     "name": "stdout",
     "output_type": "stream",
     "text": [
      "{'theres', 'insofar', 'they', 'z', 'sent', 'do', 'came', 'specified', 'her', 'looking', 'regards', 'where', 'sometime', 'particular', 'now', 'seemed', 'r', 'when', 'que', 'mean', \"they've\", 'the', 'say', \"i'm\", 'onto', \"aren't\", \"didn't\", 'own', 'afterwards', 'at', 'other', 'believe', 'eight', 'under', 'together', 'ought', \"we've\", \"we're\", 'nevertheless', 'rather', 'p', \"a's\", 'tried', 'whatever', 'f', 'gotten', 'thorough', 'necessary', 'up', 'etc', 'for', 'concerning', 'somewhere', 'well', 'yes', 'especially', 'ask', 'placed', 'ignored', \"couldn't\", 'herself', 'saying', 'perhaps', 'become', 'sure', 'quite', 'somewhat', 'from', 'respectively', 'most', 'e', \"they'll\", 'sup', 'already', 'downwards', 'b', 'myself', 'becomes', 'currently', 'various', 'contain', 'does', 'anybody', 'former', 'took', 'ours', 'two', 'inner', 'better', 'whose', 'within', 'greetings', 'therefore', 'howbeit', 'only', 'each', 'appreciate', 'six', \"wasn't\", 'by', 'sorry', 'those', 'seeming', 'everywhere', \"ain't\", 'unlikely', \"c'mon\", 'both', 'itself', 'almost', 'whereas', 'hence', 'went', \"c's\", 'his', 'themselves', 'therein', 'willing', 'none', 'anyways', \"where's\", \"let's\", 'despite', 'i', 'comes', 'gone', 'whence', 'against', 'c', 'gets', \"you'd\", 'everyone', 'formerly', 'usually', 'hers', 'upon', \"it'd\", 'take', 'thoroughly', 'h', 'ourselves', 'my', 'thence', 'best', 'certainly', 'truly', 'however', 'there', 'these', 'off', 'unless', \"you've\", 'little', \"there's\", 'want', \"isn't\", 'more', 'please', 'yours', 'them', 'merely', 'then', 'go', 'same', 'maybe', 'according', 'everybody', 'third', \"hasn't\", 'allow', 'seen', \"wouldn't\", 'seven', 'becoming', 'am', 'moreover', 'tries', 'x', 'herein', 'once', \"you're\", 'kept', 'un', 'toward', 'are', 'been', 'why', 'as', 'brief', 're', 'different', 'anything', 'four', 'least', 'what', 'described', 'above', 'in', 'rd', 'this', 'uses', 'eg', 'viz', 'know', 'among', 'ever', 'away', 'be', 'of', 'thanks', 'welcome', 'next', 'doing', 'few', 'whereby', \"t's\", 'likely', 'also', 'had', \"they're\", 'around', 'got', 'whither', 'hereby', 'known', \"doesn't\", \"won't\", 'beyond', 'must', 'follows', 'specify', 'l', 'appropriate', 'considering', 'serious', 'may', 'looks', 'did', 'thru', 'whoever', 'having', 'a', 'indeed', 'much', 'just', 'wants', 'uucp', 'last', 'right', 'k', 'qv', 'need', 'or', 'should', \"you'll\", 'novel', 'amongst', 'aside', 'seeing', 'namely', 'available', 'him', 'immediate', 'their', 'another', 'someone', 'says', 'trying', 'might', 'until', 'secondly', 'value', 'so', 'except', 'presumably', 'thereupon', 'indicated', 'twice', 'apart', 'between', 'yourself', 'even', 'hopefully', 'edu', 'getting', 'out', 'nowhere', 'saw', 'w', 'self', 'sometimes', \"he's\", 'can', 'us', 'possible', 'actually', 'but', 'nd', 'after', 'meanwhile', 'like', 'certain', 'said', 'unto', 'et', 'some', 'corresponding', 'exactly', 'relatively', 'obviously', 'always', 'and', 'goes', 'per', 'indicates', 'our', 'wherever', 'during', 'shall', 'selves', 'tell', 'throughout', 'without', 'anyone', \"i've\", 'hi', 'others', 'any', 'further', 'ones', 's', 'example', \"shouldn't\", 'else', 'sub', 'were', 'causes', 'below', 'look', 'an', 'ie', 'enough', 'again', 'fifth', 'towards', 'consider', 'keep', 'anyhow', \"i'd\", 'not', 'overall', 'alone', 'later', 'several', 'clearly', 'ex', 'although', 'accordingly', 'outside', 'yet', \"can't\", 'with', 'name', 'y', \"hadn't\", \"it's\", 'able', 'g', 'often', 'somehow', 'think', 'via', 'vs', 'asking', 'along', 'thus', 'many', 'particularly', 'tends', 'furthermore', 'your', 'given', 'have', 'whenever', 'mainly', 'has', 'entirely', 'how', 'non', 'followed', 'besides', 'otherwise', 'nearly', 'noone', 'thats', \"we'd\", 'who', 'could', 'seem', 'hello', 'on', 'reasonably', 'second', 'u', \"what's\", 'wish', 'oh', 'come', 'way', 'wonder', 'awfully', 'definitely', 'appear', 'less', 'hereupon', \"we'll\", 'being', 'me', 'down', 'provides', 'ltd', \"here's\", 'q', 'wherein', 'used', 'soon', 'nothing', 'would', 'let', 'beforehand', 'get', 'hither', 'nor', 'see', 'never', 'taken', 'yourselves', 'hereafter', 'happens', 'done', 'zero', 'over', 'containing', 'using', 't', 'whereafter', 'n', 'com', 'it', 'plus', 'elsewhere', 'consequently', 'near', 'into', 'here', \"who's\", 'is', 'since', 'seems', 'gives', 'normally', 'anywhere', 'about', 'going', 'theirs', 'old', 'was', 'thanx', 'indicate', 'knows', 'though', 'cause', 'new', 'following', 'she', 'beside', 'needs', 'one', 'everything', 'allows', 'nine', 'ok', 'all', 'liked', 'course', 'o', 'inc', 'across', 'which', 'you', 'lest', 'five', \"i'll\", 'm', 'whereupon', \"it'll\", 'every', 'thank', 'because', 'changes', 'we', 'specifying', 'he', 'keeps', 'whom', 'cannot', 'instead', \"weren't\", 'sensible', 'if', 'first', 'unfortunately', \"don't\", 'regardless', 'such', 'cant', 'try', 'somebody', 'whole', 'lately', 'no', 'through', 'far', 'than', 'seriously', 'too', 'v', 'co', 'its', 'regarding', 'that', 'will', 'contains', 'three', 'before', 'neither', 'latterly', 'help', 'j', \"they'd\", 'th', 'to', 'thereby', 'still', 'useful', 'became', 'forth', 'really', 'mostly', 'very', 'himself', 'probably', 'okay', 'thereafter', 'latter', 'hardly', 'associated', \"haven't\", 'inasmuch', 'use', 'inward', \"that's\", 'something', 'whether', 'anyway', 'd', 'nobody', 'either', 'while', 'behind'}\n"
     ]
    }
   ],
   "source": [
    "# read stop words\n",
    "stopwords = []\n",
    "try:\n",
    "    file = open('../resources/smart-stopwords', 'r', encoding='utf-8')\n",
    "\n",
    "except FileNotFoundError:\n",
    "    print(f\"Results about stopwords are not found.\")\n",
    "\n",
    "with file:\n",
    "    \n",
    "    Lines = file.readlines()\n",
    "        \n",
    "    for line in Lines:\n",
    "        stopwords.append(line[:-1])\n",
    "    file.close()\n",
    "stopwords = set(stopwords)\n",
    "print(stopwords)"
   ]
  },
  {
   "cell_type": "code",
   "execution_count": 4,
   "id": "ebf99bb5",
   "metadata": {},
   "outputs": [
    {
     "name": "stdout",
     "output_type": "stream",
     "text": [
      "['anthropolog', 'definit', 'of', 'environ', 'axon', 'termin', 'or', 'synapt', 'knob', 'definit', 'caus', 'of', 'left', 'ventricular', 'hypertrophi', 'caus', 'of', 'militari', 'suicid', 'cost', 'of', 'interior', 'concret', 'floor', 'definit', 'declaratori', 'judgment', 'definit', 'of', 'a', 'sigmet', 'differ', 'between', 'a', 'mcdoubl', 'and', 'a', 'doubl', 'cheeseburg', 'differ', 'between', 'rn', 'and', 'bsn', 'do', 'goldfish', 'grow', 'doe', 'legionella', 'pneumophila', 'caus', 'pneumonia', 'exampl', 'of', 'monoton', 'function', 'exon', 'definit', 'biolog', 'how', 'are', 'some', 'shark', 'warm', 'blood', 'how', 'long', 'is', 'life', 'cycl', 'of', 'flea', 'how', 'to', 'find', 'the', 'midseg', 'of', 'a', 'trapezoid', 'is', 'cdg', 'airport', 'in', 'main', 'pari', 'lp', 'law', 'definit', \"medicare'\", 'definit', 'of', 'mechan', 'ventil', 'right', 'pelvic', 'pain', 'caus', 'rsa', 'definit', 'key', 'type', 'of', 'dysarthria', 'from', 'cerebr', 'palsi', 'what', 'are', 'the', 'social', 'determin', 'of', 'health', 'what', 'is', 'the', 'most', 'popular', 'food', 'in', 'switzerland', 'what', 'is', 'theraderm', 'use', 'for', 'what', 'type', 'of', 'food', 'can', 'you', 'cook', 'sou', 'vide', 'when', 'wa', 'the', 'salvat', 'armi', 'found', 'who', 'is', 'robert', 'gray', 'whi', 'did', 'the', 'us', 'volunterilay', 'enter', 'ww1', 'who', 'form', 'the', 'commonwealth', 'of', 'independ', 'state', 'defin', 'visceral?', 'what', 'is', 'wifi', 'vs', 'bluetooth', 'what', 'is', 'the', 'daili', 'life', 'of', 'thai', 'peopl', 'what', 'is', 'physic', 'descript', 'of', 'spruce', 'what', 'is', 'famvir', 'prescrib', 'for', 'what', 'is', 'durabl', 'medic', 'equip', 'consist', 'of', 'what', 'is', 'an', 'aml', 'surveil', 'analyst', 'what', 'is', 'a', 'activ', 'margin', 'what', 'can', 'contour', 'plow', 'reduc', 'what', 'are', 'the', 'three', 'percenters?', 'tracheid', 'are', 'part', 'of', '_____.', 'hydrogen', 'is', 'a', 'liquid', 'below', 'what', 'temperatur', 'how', 'is', 'the', 'weather', 'in', 'jamaica', 'how', 'much', 'money', 'do', 'motiv', 'speaker', 'make', 'what', 'can', 'you', 'do', 'about', 'discrimin', 'in', 'the', 'workplac', 'in', 'oklahoma', 'citi', 'defin', 'pareto', 'chart', 'in', 'statist', 'defin', 'etruscan', 'what', 'type', 'of', 'conflict', 'doe', 'della', 'face', 'in', 'o', 'henri', 'the', 'gift', 'of', 'the', 'magi', 'who', 'kill', 'nichola', 'ii', 'of', 'russia', 'how', 'much', 'would', 'it', 'cost', 'to', 'instal', 'my', 'own', 'wind', 'turbin', 'what', 'is', 'a', 'nonconformity?', 'earth', 'scienc', 'whi', 'do', 'hunter', 'pattern', 'their', 'shotguns?', 'what', 'amino', 'produc', 'carnitin', 'what', 'metal', 'are', 'hip', 'replac', 'made', 'of', 'whi', 'is', 'pete', 'rose', 'ban', 'from', 'hall', 'of', 'fame', 'what', 'is', 'reba', \"mcentire'\", 'net', 'worth', 'when', 'did', 'rock', 'n', 'roll', 'begin?', 'averag', 'wed', 'dress', 'alter', 'cost', 'are', 'natur', 'record', 'public', 'inform', 'how', 'mani', 'son', 'robert', 'kraft', 'ha', 'what', 'type', 'of', 'tissu', 'are', 'bronchiol', 'what', 'is', 'chaff', 'and', 'flare', 'dog', 'day', 'afternoon', 'mean', 'mean', 'of', 'shebang', 'is', 'caffein', 'an', 'narcot', 'what', 'medium', 'do', 'radio', 'wave', 'travel', 'through', 'ia', 'suffix', 'mean', 'defin', 'bmt', 'medic', 'where', 'is', 'the', 'show', 'shameless', 'film', 'how', 'long', 'doe', 'it', 'take', 'to', 'remov', 'wisdom', 'tooth', 'when', 'did', 'famili', 'feud', 'come', 'out?', 'doe', 'mississippi', 'have', 'an', 'incom', 'tax', 'who', 'sing', 'monk', 'theme', 'song', 'what', 'is', 'chronomet', 'who', 'invent', 'it', 'definit', 'of', 'laudabl', 'who', 'is', 'rep', 'scalise?', 'define:', 'geon', 'what', 'the', 'best', 'way', 'to', 'get', 'cloth', 'white', 'averag', 'salari', 'for', 'dental', 'hygienist', 'in', 'nebraska', 'describ', 'how', 'muscl', 'and', 'bone', 'work', 'togeth', 'to', 'produc', 'movement', 'what', 'is', 'a', 'alm', 'what', 'is', 'the', 'un', 'fao', 'how', 'doe', 'granul', 'tissu', 'start', 'what', 'is', 'a', 'statutori', 'deed', 'what', 'carvedilol', 'use', 'for', 'what', 'is', 'mamey', 'how', 'old', 'is', 'vanessa', 'redgrav', 'averag', 'annual', 'incom', 'data', 'analyst', 'what', 'are', 'best', 'food', 'to', 'lower', 'cholesterol', 'who', 'is', 'aziz', 'hashim', 'differ', 'between', 'a', 'hotel', 'and', 'motel', 'whi', 'did', 'the', 'ancient', 'egyptian', 'call', 'their', 'land', 'kemet', 'or', 'black', 'land?', 'what', 'doe', 'it', 'mean', 'if', 'your', 'tsh', 'is', 'low', 'do', 'googl', 'doc', 'auto', 'save', 'how', 'often', 'to', 'button', 'quail', 'lay', 'egg', 'differ', 'between', 'a', \"company'\", 'strategi', 'and', 'busi', 'model', 'is', 'can', 'fever', 'caus', 'miscarriag', 'earli', 'pregnanc']\n"
     ]
    }
   ],
   "source": [
    "# start ...\n",
    "original_query_list = []\n",
    "qterm_NN_dict = {}\n",
    "\n",
    "stemmer = PorterStemmer()\n",
    "\n",
    "try:\n",
    "    file = open(arg_trec_query_file, 'r', encoding='utf-8')\n",
    "\n",
    "except FileNotFoundError:\n",
    "    print(f\"Results about {arg_trec_query_file} are not found.\")\n",
    "\n",
    "with file:\n",
    "    \n",
    "    Lines = file.readlines()\n",
    "        \n",
    "    for line in Lines:\n",
    "        query = line.split('\\t')[1][:-1].lower().strip()\n",
    "        for term in query.split(' '):\n",
    "            original_query_list.append(stemmer.stem(term))    \n",
    "    file.close()\n",
    "print(original_query_list)\n"
   ]
  },
  {
   "cell_type": "code",
   "execution_count": 5,
   "id": "9bedcd24",
   "metadata": {},
   "outputs": [],
   "source": [
    "model = gensim.models.KeyedVectors.load_word2vec_format(arg_w2v_file, binary=False)\n"
   ]
  },
  {
   "cell_type": "code",
   "execution_count": 6,
   "id": "b45dc1c9",
   "metadata": {},
   "outputs": [
    {
     "name": "stderr",
     "output_type": "stream",
     "text": [
      "\r",
      "  0%|                                                                                                                                                                                                               | 0/558 [00:00<?, ?it/s]"
     ]
    },
    {
     "name": "stdout",
     "output_type": "stream",
     "text": [
      "query term :  anthropolog\n"
     ]
    },
    {
     "name": "stderr",
     "output_type": "stream",
     "text": [
      "  1%|█▍                                                                                                                                                                                                     | 4/558 [00:00<01:47,  5.16it/s]"
     ]
    },
    {
     "name": "stdout",
     "output_type": "stream",
     "text": [
      "[('ethnolog', 0.747401773929596), ('anthropologist', 0.7329198122024536), ('ethnograph', 0.6933757662773132), ('zoologist', 0.6804481744766235), ('wolpert', 0.6775830984115601)]\n",
      "query term :  definit\n",
      "[('mean', 0.842530369758606), ('defin', 0.8261494040489197), ('appli', 0.8240614533424377), ('doe', 0.8123292326927185), ('ani', 0.8120343685150146)]\n",
      "query term :  of\n",
      "query term :  environ\n",
      "[('environment', 0.7685648202896118), ('develop', 0.7433871626853943), ('antipollut', 0.7183924317359924), ('internalis', 0.7170185446739197), ('ensur', 0.7157516479492188)]\n",
      "query term :  axon\n",
      "[('depolar', 0.9092680811882019), ('postsynapt', 0.8527619242668152), ('synapt', 0.8444193005561829), ('ganglia', 0.8421114087104797), ('innerv', 0.8401095867156982)]\n",
      "query term :  termin\n"
     ]
    },
    {
     "name": "stderr",
     "output_type": "stream",
     "text": [
      "  2%|███▏                                                                                                                                                                                                   | 9/558 [00:01<00:48, 11.34it/s]"
     ]
    },
    {
     "name": "stdout",
     "output_type": "stream",
     "text": [
      "[('noncancel', 0.7278364300727844), ('exist', 0.7059704065322876), ('requir', 0.698089599609375), ('usacseur', 0.6975553631782532), ('provid', 0.6964616179466248)]\n",
      "query term :  or\n",
      "query term :  synapt\n",
      "[('depolar', 0.8839834928512573), ('tapang', 0.8759427070617676), ('excitatori', 0.8553308844566345), ('ganglia', 0.8529237508773804), ('photoreceptor', 0.8502882719039917)]\n",
      "query term :  knob\n",
      "[('pinion', 0.7455704808235168), ('armrest', 0.7324738502502441), ('magnaflux', 0.7164431810379028), ('snugli', 0.7148852944374084), ('gooseneck', 0.71474289894104)]\n",
      "query term :  definit\n",
      "[('mean', 0.842530369758606), ('defin', 0.8261494040489197), ('appli', 0.8240614533424377), ('doe', 0.8123292326927185), ('ani', 0.8120343685150146)]\n",
      "query term :  caus\n"
     ]
    },
    {
     "name": "stderr",
     "output_type": "stream",
     "text": [
      "  3%|█████▎                                                                                                                                                                                                | 15/558 [00:01<00:34, 15.74it/s]"
     ]
    },
    {
     "name": "stdout",
     "output_type": "stream",
     "text": [
      "[('becaus', 0.8200801014900208), ('occur', 0.812697172164917), ('sever', 0.8048741817474365), ('result', 0.7993423938751221), ('affect', 0.7967783212661743)]\n",
      "query term :  of\n",
      "query term :  left\n",
      "[('went', 0.8355972766876221), ('took', 0.8320664763450623), ('came', 0.8309960961341858), ('hand', 0.8302978277206421), ('wa', 0.8218914270401001)]\n",
      "query term :  ventricular\n",
      "[('hypotens', 0.9123700857162476), ('arrhythmia', 0.9110192656517029), ('atrial', 0.8997032642364502), ('tachycardia', 0.8957933783531189), ('ischemia', 0.8875055909156799)]\n",
      "query term :  hypertrophi\n",
      "[('homeostasi', 0.8715113997459412), ('metastasi', 0.8537511229515076), ('biotransform', 0.8489974737167358), ('pathogenet', 0.8359764814376831), ('ossif', 0.8344765305519104)]\n",
      "query term :  caus\n"
     ]
    },
    {
     "name": "stderr",
     "output_type": "stream",
     "text": [
      "  4%|███████▍                                                                                                                                                                                              | 21/558 [00:01<00:26, 20.18it/s]"
     ]
    },
    {
     "name": "stdout",
     "output_type": "stream",
     "text": [
      "[('becaus', 0.8200801014900208), ('occur', 0.812697172164917), ('sever', 0.8048741817474365), ('result', 0.7993423938751221), ('affect', 0.7967783212661743)]\n",
      "query term :  of\n",
      "query term :  militari\n",
      "[('armi', 0.8292124271392822), ('troop', 0.8173472881317139), ('forc', 0.8172694444656372), ('civilian', 0.8122913241386414), ('command', 0.794039249420166)]\n",
      "query term :  suicid\n",
      "[('death', 0.6658651828765869), ('lepin', 0.6407696604728699), ('murder', 0.6328883767127991), ('reznek', 0.6250426173210144), ('victim', 0.6222200989723206)]\n",
      "query term :  cost\n",
      "[('expens', 0.86053466796875), ('estim', 0.7990891933441162), ('incur', 0.799061119556427), ('benefit', 0.7921582460403442), ('reduc', 0.7910562753677368)]\n",
      "query term :  of\n",
      "query term :  interior\n"
     ]
    },
    {
     "name": "stderr",
     "output_type": "stream",
     "text": [
      "\r",
      "  4%|████████▌                                                                                                                                                                                             | 24/558 [00:01<00:27, 19.17it/s]"
     ]
    },
    {
     "name": "stdout",
     "output_type": "stream",
     "text": [
      "[('schelter', 0.5961416363716125), ('shulah', 0.5675848722457886), ('watban', 0.5664090514183044), ('basharati', 0.5661017894744873), ('FR941021-0-00063', 0.5548287034034729)]\n",
      "query term :  concret\n",
      "[('precast', 0.7220401167869568), ('structur', 0.7055577039718628), ('reinforc', 0.6942552924156189), ('construct', 0.693770706653595), ('frame', 0.6868874430656433)]\n",
      "query term :  floor\n",
      "[('room', 0.7249852418899536), ('parquet', 0.7101642489433289), ('windowless', 0.6816220879554749), ('insid', 0.6754913926124573), ('gypcret', 0.6699613928794861)]\n",
      "query term :  definit\n",
      "[('mean', 0.842530369758606), ('defin', 0.8261494040489197), ('appli', 0.8240614533424377), ('doe', 0.8123292326927185), ('ani', 0.8120343685150146)]\n",
      "query term :  declaratori\n"
     ]
    },
    {
     "name": "stderr",
     "output_type": "stream",
     "text": [
      "  6%|███████████▎                                                                                                                                                                                          | 32/558 [00:02<00:21, 24.82it/s]"
     ]
    },
    {
     "name": "stdout",
     "output_type": "stream",
     "text": [
      "[('cavello', 0.7568110823631287), ('cwi', 0.7546140551567078), ('jmc', 0.7503733038902283), ('midcon', 0.748833954334259), ('movant', 0.7472355365753174)]\n",
      "query term :  judgment\n",
      "[('blexen', 0.7820157408714294), ('adjudg', 0.7818208932876587), ('nulliti', 0.7774467468261719), ('judgement', 0.7684023976325989), ('case', 0.7631130218505859)]\n",
      "query term :  definit\n",
      "[('mean', 0.842530369758606), ('defin', 0.8261494040489197), ('appli', 0.8240614533424377), ('doe', 0.8123292326927185), ('ani', 0.8120343685150146)]\n",
      "query term :  of\n",
      "query term :  a\n",
      "query term :  sigmet\n",
      "query term :  differ\n",
      "[('kind', 0.8719528317451477), ('way', 0.8681896924972534), ('doe', 0.8663068413734436), ('becaus', 0.8652352690696716), ('mean', 0.8631829619407654)]\n",
      "query term :  between\n",
      "query term :  a\n",
      "query term :  mcdoubl\n",
      "query term :  and\n",
      "query term :  a\n",
      "query term :  doubl\n"
     ]
    },
    {
     "name": "stderr",
     "output_type": "stream",
     "text": [
      "  8%|███████████████▎                                                                                                                                                                                      | 43/558 [00:02<00:14, 34.77it/s]"
     ]
    },
    {
     "name": "stdout",
     "output_type": "stream",
     "text": [
      "[('second', 0.7920091152191162), ('half', 0.7825842499732971), ('singl', 0.7714892625808716), ('twice', 0.7707708477973938), ('nearli', 0.764815628528595)]\n",
      "query term :  cheeseburg\n",
      "[('milkshak', 0.8676767349243164), ('mcnugget', 0.834990382194519), ('bratwurst', 0.8316150903701782), ('tostada', 0.8306108117103577), ('coleslaw', 0.8303266167640686)]\n",
      "query term :  differ\n",
      "[('kind', 0.8719528317451477), ('way', 0.8681896924972534), ('doe', 0.8663068413734436), ('becaus', 0.8652352690696716), ('mean', 0.8631829619407654)]\n",
      "query term :  between\n",
      "query term :  rn\n",
      "[('cantuaria', 0.5947884917259216), ('oea', 0.5945003032684326), ('fiallo', 0.5944689512252808), ('godoy', 0.5934696197509766), ('caramana', 0.5932864546775818)]\n",
      "query term :  and\n",
      "query term :  bsn\n"
     ]
    },
    {
     "name": "stderr",
     "output_type": "stream",
     "text": [
      "\r",
      "  8%|████████████████▋                                                                                                                                                                                     | 47/558 [00:02<00:16, 30.79it/s]"
     ]
    },
    {
     "name": "stdout",
     "output_type": "stream",
     "text": [
      "[('volvic', 0.7862109541893005), ('badoit', 0.7309836745262146), ('nestl', 0.7284377813339233), ('riboud', 0.7262958884239197), ('panzalim', 0.7249554991722107)]\n",
      "query term :  do\n",
      "query term :  goldfish\n",
      "[('blubber', 0.7440724968910217), ('starfish', 0.7334025502204895), ('snakelik', 0.7242801189422607), ('glassi', 0.722825825214386), ('soapi', 0.7216503620147705)]\n",
      "query term :  grow\n",
      "[('grown', 0.8369985222816467), ('rapidli', 0.8318482041358948), ('increasingli', 0.7980970740318298), ('growth', 0.7764949202537537), ('grew', 0.77358078956604)]\n",
      "query term :  doe\n",
      "[('ani', 0.9097920060157776), ('thi', 0.9078466296195984), ('mean', 0.9038177728652954), ('becaus', 0.8862507343292236), ('believ', 0.8820438981056213)]\n",
      "query term :  legionella\n"
     ]
    },
    {
     "name": "stderr",
     "output_type": "stream",
     "text": [
      "\r",
      "  9%|██████████████████                                                                                                                                                                                    | 51/558 [00:02<00:20, 25.32it/s]"
     ]
    },
    {
     "name": "stdout",
     "output_type": "stream",
     "text": [
      "[('pneumophila', 0.9154959321022034), ('legionellosi', 0.858172595500946), ('aspergillosi', 0.8291356563568115), ('mycobacteri', 0.8026326298713684), ('mycobacterium', 0.801024854183197)]\n",
      "query term :  pneumophila\n",
      "[('legionella', 0.9154959321022034), ('serogroup', 0.8906324505805969), ('microbiol', 0.8629961609840393), ('lavag', 0.850016176700592), ('tubercul', 0.845768392086029)]\n",
      "query term :  caus\n",
      "[('becaus', 0.8200801014900208), ('occur', 0.812697172164917), ('sever', 0.8048741817474365), ('result', 0.7993423938751221), ('affect', 0.7967783212661743)]\n",
      "query term :  pneumonia\n",
      "[('nosocomi', 0.750475287437439), ('influenza', 0.7360017895698547), ('respiratori', 0.7300252318382263), ('infect', 0.7216591238975525), ('bronchial', 0.7163620591163635)]\n",
      "query term :  exampl\n"
     ]
    },
    {
     "name": "stderr",
     "output_type": "stream",
     "text": [
      " 10%|████████████████████▏                                                                                                                                                                                 | 57/558 [00:03<00:21, 22.84it/s]"
     ]
    },
    {
     "name": "stdout",
     "output_type": "stream",
     "text": [
      "[('instanc', 0.9241374135017395), ('similar', 0.8938580751419067), ('mani', 0.8872730731964111), ('particular', 0.884073793888092), ('moreov', 0.8766634464263916)]\n",
      "query term :  of\n",
      "query term :  monoton\n",
      "[('numbingli', 0.7618810534477234), ('monotoni', 0.7606646418571472), ('actorli', 0.760181725025177), ('formless', 0.7585482597351074), ('restlessli', 0.7567281723022461)]\n",
      "query term :  function\n",
      "[('necessari', 0.8093879222869873), ('essenti', 0.801593542098999), ('ensur', 0.8002946376800537), ('structur', 0.787444531917572), ('creat', 0.7846568822860718)]\n",
      "query term :  exon\n",
      "[('proxmir', 0.8214453458786011), ('daschl', 0.8152298331260681), ('grassley', 0.8069125413894653), ('bliley', 0.8039654493331909), ('vinich', 0.7840225696563721)]\n",
      "query term :  definit\n"
     ]
    },
    {
     "name": "stderr",
     "output_type": "stream",
     "text": [
      " 11%|██████████████████████▋                                                                                                                                                                               | 64/558 [00:03<00:18, 26.77it/s]"
     ]
    },
    {
     "name": "stdout",
     "output_type": "stream",
     "text": [
      "[('mean', 0.842530369758606), ('defin', 0.8261494040489197), ('appli', 0.8240614533424377), ('doe', 0.8123292326927185), ('ani', 0.8120343685150146)]\n",
      "query term :  biolog\n",
      "[('biotechnologist', 0.6992880702018738), ('syutkin', 0.6935483813285828), ('prelicens', 0.6912887692451477), ('obolensk', 0.6853629946708679), ('genotyp', 0.6852498650550842)]\n",
      "query term :  how\n",
      "query term :  are\n",
      "query term :  some\n",
      "query term :  shark\n",
      "[('megamouth', 0.7275509834289551), ('stotesburi', 0.6962398290634155), ('bluefish', 0.6723584532737732), ('hammerhead', 0.6716562509536743), ('porpois', 0.6693629026412964)]\n",
      "query term :  warm\n",
      "[('warmer', 0.7343649864196777), ('warmest', 0.7151176333427429), ('warmth', 0.6889930963516235), ('cool', 0.6872746348381042), ('colder', 0.6864326000213623)]\n",
      "query term :  blood\n"
     ]
    },
    {
     "name": "stderr",
     "output_type": "stream",
     "text": [
      " 13%|████████████████████████▊                                                                                                                                                                             | 70/558 [00:03<00:18, 26.30it/s]"
     ]
    },
    {
     "name": "stdout",
     "output_type": "stream",
     "text": [
      "[('transfus', 0.7267353534698486), ('heart', 0.6971858143806458), ('corpuscl', 0.6918192505836487), ('metastas', 0.6856867074966431), ('casenza', 0.6844654083251953)]\n",
      "query term :  how\n",
      "query term :  long\n",
      "[('short', 0.8422746062278748), ('longer', 0.8412967920303345), ('way', 0.8171036839485168), ('come', 0.8169825673103333), ('term', 0.8138024806976318)]\n",
      "query term :  is\n",
      "query term :  life\n",
      "[('assur', 0.731422483921051), ('live', 0.7159889936447144), ('way', 0.708175539970398), ('like', 0.7039228677749634), ('rest', 0.7008978128433228)]\n",
      "query term :  cycl\n",
      "[('kondratieff', 0.6956439018249512), ('unsynchronis', 0.6923438310623169), ('bvp', 0.6897592544555664), ('downsw', 0.6887545585632324), ('overcool', 0.6874310374259949)]\n",
      "query term :  of\n",
      "query term :  flea\n"
     ]
    },
    {
     "name": "stderr",
     "output_type": "stream",
     "text": [
      "\r",
      " 14%|████████████████████████████▍                                                                                                                                                                         | 80/558 [00:03<00:11, 43.29it/s]"
     ]
    },
    {
     "name": "stdout",
     "output_type": "stream",
     "text": [
      "[('sticktight', 0.6579017639160156), ('housefli', 0.6564763188362122), ('reinfest', 0.6551010608673096), ('silverfish', 0.654870867729187), ('ladybug', 0.6395186185836792)]\n",
      "query term :  how\n",
      "query term :  to\n",
      "query term :  find\n",
      "query term :  the\n",
      "query term :  midseg\n",
      "query term :  of\n",
      "query term :  a\n",
      "query term :  trapezoid\n",
      "[('semicircular', 0.8735284805297852), ('kerf', 0.8566242456436157), ('duralumin', 0.8526542782783508), ('clerestori', 0.8461183905601501), ('unpaint', 0.8442243933677673)]\n",
      "query term :  is\n",
      "query term :  cdg\n",
      "[('orissi', 0.8939322233200073), ('savena', 0.8626543879508972), ('pastour', 0.8504253625869751), ('bellyhold', 0.8439618945121765), ('flexair', 0.8393348455429077)]\n",
      "query term :  airport\n",
      "[('runway', 0.7337135076522827), ('flight', 0.6784261465072632), ('skywest', 0.6709287762641907), ('enplan', 0.662301242351532), ('aiport', 0.6594463586807251)]\n",
      "query term :  in\n",
      "query term :  main\n"
     ]
    },
    {
     "name": "stderr",
     "output_type": "stream",
     "text": [
      "\r",
      " 15%|██████████████████████████████▏                                                                                                                                                                       | 85/558 [00:03<00:12, 38.28it/s]"
     ]
    },
    {
     "name": "stdout",
     "output_type": "stream",
     "text": [
      "[('entir', 0.8044601082801819), ('ha', 0.7901074886322021), ('howev', 0.787996232509613), ('turn', 0.7875233888626099), ('larg', 0.7864498496055603)]\n",
      "query term :  pari\n",
      "[('french', 0.7724579572677612), ('franc', 0.7188259959220886), ('maillard', 0.7059962153434753), ('pean', 0.7019646763801575), ('tesson', 0.6936454176902771)]\n",
      "query term :  lp\n",
      "[('enstar', 0.580871045589447), ('brauvin', 0.5703927278518677), ('enex', 0.5639837980270386), ('sweeni', 0.5525728464126587), ('nopsi', 0.5475800633430481)]\n",
      "query term :  law\n",
      "[('legal', 0.8595866560935974), ('constitut', 0.814834713935852), ('legisl', 0.8117929697036743), ('judicatur', 0.7994126081466675), ('enforc', 0.7907178401947021)]\n",
      "query term :  definit\n"
     ]
    },
    {
     "name": "stderr",
     "output_type": "stream",
     "text": [
      " 17%|█████████████████████████████████▎                                                                                                                                                                    | 94/558 [00:04<00:16, 28.95it/s]"
     ]
    },
    {
     "name": "stdout",
     "output_type": "stream",
     "text": [
      "[('mean', 0.842530369758606), ('defin', 0.8261494040489197), ('appli', 0.8240614533424377), ('doe', 0.8123292326927185), ('ani', 0.8120343685150146)]\n",
      "query term :  medicare'\n",
      "query term :  definit\n",
      "[('mean', 0.842530369758606), ('defin', 0.8261494040489197), ('appli', 0.8240614533424377), ('doe', 0.8123292326927185), ('ani', 0.8120343685150146)]\n",
      "query term :  of\n",
      "query term :  mechan\n",
      "[('necessari', 0.7880254983901978), ('ensur', 0.7687528133392334), ('thu', 0.7574601173400879), ('stabli', 0.7564820647239685), ('essenti', 0.7548010349273682)]\n",
      "query term :  ventil\n",
      "[('uvgi', 0.7652996778488159), ('hvac', 0.7485364675521851), ('hepa', 0.7295281887054443), ('nonpillar', 0.7256650924682617), ('inbi', 0.7077921628952026)]\n",
      "query term :  right\n"
     ]
    },
    {
     "name": "stderr",
     "output_type": "stream",
     "text": [
      "\r",
      " 18%|██████████████████████████████████▊                                                                                                                                                                   | 98/558 [00:04<00:18, 24.76it/s]"
     ]
    },
    {
     "name": "stdout",
     "output_type": "stream",
     "text": [
      "[('hand', 0.8003111481666565), ('way', 0.7989778518676758), ('whatev', 0.7916550040245056), ('anoth', 0.789901614189148), ('everi', 0.7806278467178345)]\n",
      "query term :  pelvic\n",
      "[('cranial', 0.8024279475212097), ('cervix', 0.8012218475341797), ('vagina', 0.7996824979782104), ('femor', 0.7950201034545898), ('angiogram', 0.794268012046814)]\n",
      "query term :  pain\n",
      "[('suffer', 0.798129677772522), ('feel', 0.7720462083816528), ('endur', 0.7581684589385986), ('excruci', 0.7526792287826538), ('felt', 0.75152987241745)]\n",
      "query term :  caus\n",
      "[('becaus', 0.8200801014900208), ('occur', 0.812697172164917), ('sever', 0.8048741817474365), ('result', 0.7993423938751221), ('affect', 0.7967783212661743)]\n",
      "query term :  rsa\n"
     ]
    },
    {
     "name": "stderr",
     "output_type": "stream",
     "text": [
      "\r",
      " 18%|███████████████████████████████████▋                                                                                                                                                                 | 101/558 [00:04<00:20, 22.63it/s]"
     ]
    },
    {
     "name": "stdout",
     "output_type": "stream",
     "text": [
      "[('unomsa', 0.6345150470733643), ('ostroumov', 0.6221797466278076), ('sigov', 0.6141968369483948), ('nasrec', 0.604457437992096), ('nonraci', 0.6016719341278076)]\n",
      "query term :  definit\n",
      "[('mean', 0.842530369758606), ('defin', 0.8261494040489197), ('appli', 0.8240614533424377), ('doe', 0.8123292326927185), ('ani', 0.8120343685150146)]\n",
      "query term :  key\n",
      "[('crucial', 0.8593759536743164), ('way', 0.8126692175865173), ('need', 0.8103442192077637), ('anoth', 0.8076622486114502), ('success', 0.8037958741188049)]\n",
      "query term :  type\n",
      "[('p', 0.6731663942337036), ('analysi', 0.6688046455383301), ('report', 0.666200578212738), ('gnz', 0.6520717144012451), ('bezlgium', 0.6499630808830261)]\n",
      "query term :  of\n",
      "query term :  dysarthria\n",
      "query term :  from\n",
      "query term :  cerebr\n"
     ]
    },
    {
     "name": "stderr",
     "output_type": "stream",
     "text": [
      " 20%|███████████████████████████████████████▏                                                                                                                                                             | 111/558 [00:04<00:14, 31.15it/s]"
     ]
    },
    {
     "name": "stdout",
     "output_type": "stream",
     "text": [
      "[('palsi', 0.8050177693367004), ('autism', 0.7271437048912048), ('neuromuscular', 0.7089886665344238), ('brain', 0.6791174411773682), ('limbic', 0.6775236129760742)]\n",
      "query term :  palsi\n",
      "[('cerebr', 0.8050179481506348), ('autism', 0.7790817022323608), ('dystrophi', 0.7382626533508301), ('fibromyalgia', 0.7370790839195251), ('gerontologist', 0.7346011400222778)]\n",
      "query term :  what\n",
      "query term :  are\n",
      "query term :  the\n",
      "query term :  social\n",
      "[('welfar', 0.762328565120697), ('reform', 0.74708491563797), ('polit', 0.7460187077522278), ('polici', 0.7343315482139587), ('petracek', 0.7339052557945251)]\n",
      "query term :  determin\n",
      "[('appropri', 0.8659298419952393), ('therefor', 0.8599163889884949), ('requir', 0.8527831435203552), ('ani', 0.8493915796279907), ('subject', 0.8471357226371765)]\n",
      "query term :  of\n",
      "query term :  health\n"
     ]
    },
    {
     "name": "stderr",
     "output_type": "stream",
     "text": [
      " 22%|██████████████████████████████████████████▎                                                                                                                                                          | 120/558 [00:05<00:12, 35.36it/s]"
     ]
    },
    {
     "name": "stdout",
     "output_type": "stream",
     "text": [
      "[('care', 0.8157001733779907), ('medic', 0.7582431435585022), ('ucimc', 0.7334797978401184), ('educt', 0.7301747798919678), ('plwa', 0.7295773029327393)]\n",
      "query term :  what\n",
      "query term :  is\n",
      "query term :  the\n",
      "query term :  most\n",
      "query term :  popular\n",
      "[('enjoy', 0.7595387697219849), ('mani', 0.7552763819694519), ('especi', 0.7354211211204529), ('tradit', 0.7315751314163208), ('true', 0.7314897179603577)]\n",
      "query term :  food\n",
      "[('nutriti', 0.6902750730514526), ('pepperidg', 0.6836386322975159), ('babyfood', 0.6724278330802917), ('nonalcohol', 0.6709733605384827), ('meat', 0.6667301058769226)]\n",
      "query term :  in\n",
      "query term :  switzerland\n",
      "[('swiss', 0.8113592863082886), ('chz', 0.7855260372161865), ('solothurn', 0.7191132307052612), ('schweizerisch', 0.710983157157898), ('kantonalbank', 0.707805335521698)]\n",
      "query term :  what\n",
      "query term :  is\n",
      "query term :  theraderm\n",
      "query term :  use\n"
     ]
    },
    {
     "name": "stderr",
     "output_type": "stream",
     "text": [
      " 23%|██████████████████████████████████████████████▏                                                                                                                                                      | 131/558 [00:05<00:10, 41.05it/s]"
     ]
    },
    {
     "name": "stdout",
     "output_type": "stream",
     "text": [
      "[('onli', 0.8584811091423035), ('addit', 0.8304161429405212), ('appli', 0.8240385055541992), ('exampl', 0.8160594701766968), ('need', 0.8088236451148987)]\n",
      "query term :  for\n",
      "query term :  what\n",
      "query term :  type\n",
      "[('p', 0.6731663942337036), ('analysi', 0.6688046455383301), ('report', 0.666200578212738), ('gnz', 0.6520717144012451), ('bezlgium', 0.6499630808830261)]\n",
      "query term :  of\n",
      "query term :  food\n",
      "[('nutriti', 0.6902750730514526), ('pepperidg', 0.6836386322975159), ('babyfood', 0.6724278330802917), ('nonalcohol', 0.6709733605384827), ('meat', 0.6667301058769226)]\n",
      "query term :  can\n",
      "query term :  you\n",
      "query term :  cook\n",
      "[('wok', 0.6993231773376465), ('griddl', 0.6807533502578735), ('bast', 0.6781765818595886), ('scone', 0.6658685207366943), ('paella', 0.6618565917015076)]\n",
      "query term :  sou\n"
     ]
    },
    {
     "name": "stderr",
     "output_type": "stream",
     "text": [
      " 25%|█████████████████████████████████████████████████▍                                                                                                                                                   | 140/558 [00:05<00:11, 36.35it/s]"
     ]
    },
    {
     "name": "stdout",
     "output_type": "stream",
     "text": [
      "[('rol', 0.644022524356842), ('bazelyuk', 0.5976828932762146), ('shudrya', 0.5886926054954529), ('lobashchuk', 0.5824429988861084), ('troisgro', 0.5796155333518982)]\n",
      "query term :  vide\n",
      "[('salinist', 0.7032946944236755), ('chahin', 0.7014038562774658), ('texeira', 0.6913585066795349), ('ffinch', 0.6911553144454956), ('precandid', 0.6886705160140991)]\n",
      "query term :  when\n",
      "query term :  wa\n",
      "[('anoth', 0.9103937745094299), ('came', 0.9094443917274475), ('took', 0.9085313677787781), ('befor', 0.9064631462097168), ('howev', 0.8960716128349304)]\n",
      "query term :  the\n",
      "query term :  salvat\n",
      "[('hachani', 0.6168326735496521), ('essawi', 0.6101155281066895), ('mazilu', 0.6038872003555298), ('bendjedid', 0.6022413969039917), ('ettahaddi', 0.6007339954376221)]\n",
      "query term :  armi\n",
      "[('militari', 0.8292123675346375), ('soldier', 0.8035733103752136), ('command', 0.7942600250244141), ('forc', 0.7617288827896118), ('troop', 0.7613438963890076)]\n",
      "query term :  found\n",
      "query term :  who\n",
      "query term :  is\n",
      "query term :  robert\n"
     ]
    },
    {
     "name": "stderr",
     "output_type": "stream",
     "text": [
      " 27%|████████████████████████████████████████████████████▌                                                                                                                                                | 149/558 [00:05<00:10, 37.35it/s]"
     ]
    },
    {
     "name": "stdout",
     "output_type": "stream",
     "text": [
      "[('charl', 0.6475854516029358), ('william', 0.6420220732688904), ('john', 0.6383519172668457), ('jame', 0.6379296183586121), ('richard', 0.6249623894691467)]\n",
      "query term :  gray\n",
      "[('dark', 0.615461528301239), ('grey', 0.6061162352561951), ('white', 0.6006454229354858), ('elser', 0.6005510687828064), ('flannel', 0.5958427786827087)]\n",
      "query term :  whi\n",
      "[('know', 0.9161683320999146), ('anyth', 0.9082127213478088), ('explain', 0.9024418592453003), ('think', 0.8979377746582031), ('thing', 0.8961999416351318)]\n",
      "query term :  did\n",
      "query term :  the\n",
      "query term :  us\n",
      "query term :  volunterilay\n",
      "query term :  enter\n",
      "[('anoth', 0.8219156265258789), ('thi', 0.802207887172699), ('ani', 0.8001018166542053), ('allow', 0.7967210412025452), ('mean', 0.7955092787742615)]\n",
      "query term :  ww1\n",
      "query term :  who\n",
      "query term :  form\n"
     ]
    },
    {
     "name": "stderr",
     "output_type": "stream",
     "text": [
      " 29%|████████████████████████████████████████████████████████▍                                                                                                                                            | 160/558 [00:06<00:10, 37.39it/s]"
     ]
    },
    {
     "name": "stdout",
     "output_type": "stream",
     "text": [
      "[('thi', 0.8009447455406189), ('includ', 0.7910148501396179), ('separ', 0.7907967567443848), ('mean', 0.7882404923439026), ('particular', 0.7862148284912109)]\n",
      "query term :  the\n",
      "query term :  commonwealth\n",
      "[('shridath', 0.655813455581665), ('cogsa', 0.6236110925674438), ('ramphal', 0.6232251524925232), ('ci', 0.6211483478546143), ('anyaoku', 0.6015055775642395)]\n",
      "query term :  of\n",
      "query term :  independ\n",
      "[('support', 0.7265800833702087), ('ha', 0.7253996729850769), ('establish', 0.7239342331886292), ('thi', 0.7203637361526489), ('s', 0.7171971201896667)]\n",
      "query term :  state\n",
      "[('regard', 0.7960423231124878), ('thi', 0.7929959893226624), ('establish', 0.7897212505340576), ('ha', 0.7837026715278625), ('consid', 0.7833863496780396)]\n",
      "query term :  defin\n"
     ]
    },
    {
     "name": "stderr",
     "output_type": "stream",
     "text": [
      " 31%|████████████████████████████████████████████████████████████▎                                                                                                                                        | 171/558 [00:06<00:09, 42.54it/s]"
     ]
    },
    {
     "name": "stdout",
     "output_type": "stream",
     "text": [
      "[('appli', 0.8333507776260376), ('specif', 0.829007625579834), ('subject', 0.8282632231712341), ('consist', 0.8280556797981262), ('definit', 0.8261494636535645)]\n",
      "query term :  visceral?\n",
      "query term :  what\n",
      "query term :  is\n",
      "query term :  wifi\n",
      "[('ccebqaefft', 0.8895021080970764), ('bratusch', 0.8862755298614502), ('thisin', 0.8787916898727417), ('chasprombank', 0.875971794128418), ('FT921-5942', 0.8759045600891113)]\n",
      "query term :  vs\n",
      "[('croson', 0.57418292760849), ('babbott', 0.552104651927948), ('wade', 0.5494545102119446), ('turnock', 0.5471284985542297), ('matchup', 0.5430296063423157)]\n",
      "query term :  bluetooth\n",
      "query term :  what\n",
      "query term :  is\n",
      "query term :  the\n",
      "query term :  daili\n",
      "[('fbi', 0.9285998344421387), ('reportag', 0.7664258480072021), ('sov', 0.7559807300567627), ('drchi', 0.7558778524398804), ('drsov', 0.7509570121765137)]\n",
      "query term :  life\n"
     ]
    },
    {
     "name": "stderr",
     "output_type": "stream",
     "text": [
      "\r",
      " 32%|██████████████████████████████████████████████████████████████▏                                                                                                                                      | 176/558 [00:06<00:10, 37.53it/s]"
     ]
    },
    {
     "name": "stdout",
     "output_type": "stream",
     "text": [
      "[('assur', 0.731422483921051), ('live', 0.7159889936447144), ('way', 0.708175539970398), ('like', 0.7039228677749634), ('rest', 0.7008978128433228)]\n",
      "query term :  of\n",
      "query term :  thai\n",
      "[('thailand', 0.8421066403388977), ('bangkok', 0.8357172608375549), ('chuan', 0.7555323243141174), ('siam', 0.7368161082267761), ('phuchatkan', 0.7350673079490662)]\n",
      "query term :  peopl\n",
      "[('everyon', 0.8072090148925781), ('themselv', 0.8026621341705322), ('live', 0.7980079054832458), ('way', 0.7961739301681519), ('mind', 0.7944979071617126)]\n",
      "query term :  what\n",
      "query term :  is\n",
      "query term :  physic\n",
      "[('psycholog', 0.7347720265388489), ('experi', 0.7214462161064148), ('abil', 0.7210243940353394), ('psychophys', 0.7130995988845825), ('mean', 0.7114361524581909)]\n",
      "query term :  descript\n"
     ]
    },
    {
     "name": "stderr",
     "output_type": "stream",
     "text": [
      " 33%|████████████████████████████████████████████████████████████████▉                                                                                                                                    | 184/558 [00:06<00:10, 36.35it/s]"
     ]
    },
    {
     "name": "stdout",
     "output_type": "stream",
     "text": [
      "[('specif', 0.7436063885688782), ('describ', 0.717269778251648), ('identifi', 0.7089925408363342), ('consist', 0.7051264643669128), ('requir', 0.6896414756774902)]\n",
      "query term :  of\n",
      "query term :  spruce\n",
      "[('lodgepol', 0.6296384930610657), ('larch', 0.6203252077102661), ('deodar', 0.6192764043807983), ('bough', 0.6155745983123779), ('conif', 0.6137281656265259)]\n",
      "query term :  what\n",
      "query term :  is\n",
      "query term :  famvir\n",
      "[('paxil', 0.9132295250892639), ('famciclovir', 0.9006870985031128), ('relafen', 0.8892313241958618), ('kytril', 0.8891333341598511), ('serev', 0.8830229043960571)]\n",
      "query term :  prescrib\n",
      "[('requir', 0.7657713294029236), ('shall', 0.7631919980049133), ('specifi', 0.754071831703186), ('preemploy', 0.7452049851417542), ('procedur', 0.7372121810913086)]\n",
      "query term :  for\n",
      "query term :  what\n",
      "query term :  is\n",
      "query term :  durabl\n"
     ]
    },
    {
     "name": "stderr",
     "output_type": "stream",
     "text": [
      " 35%|████████████████████████████████████████████████████████████████████▏                                                                                                                                | 193/558 [00:07<00:11, 32.64it/s]"
     ]
    },
    {
     "name": "stdout",
     "output_type": "stream",
     "text": [
      "[('good', 0.643564760684967), ('consum', 0.6305456757545471), ('macreynold', 0.6304171681404114), ('nondur', 0.6195981502532959), ('downslid', 0.6135951280593872)]\n",
      "query term :  medic\n",
      "[('hospit', 0.8277555704116821), ('patient', 0.8196702003479004), ('physician', 0.8161751627922058), ('doctor', 0.8120101690292358), ('care', 0.7826788425445557)]\n",
      "query term :  equip\n",
      "[('oper', 0.7715005278587341), ('unservic', 0.7680803537368774), ('compon', 0.7628352046012878), ('vniizht', 0.7559899687767029), ('mainten', 0.7558332085609436)]\n",
      "query term :  consist\n",
      "[('addit', 0.850341260433197), ('provid', 0.8502095341682434), ('purpos', 0.8483773469924927), ('includ', 0.8455067276954651), ('thu', 0.8423784375190735)]\n",
      "query term :  of\n",
      "query term :  what\n",
      "query term :  is\n",
      "query term :  an\n",
      "query term :  aml\n"
     ]
    },
    {
     "name": "stderr",
     "output_type": "stream",
     "text": [
      " 36%|███████████████████████████████████████████████████████████████████████▋                                                                                                                             | 203/558 [00:07<00:09, 37.84it/s]"
     ]
    },
    {
     "name": "stdout",
     "output_type": "stream",
     "text": [
      "[('amlr', 0.856565535068512), ('namlrd', 0.8500936031341553), ('noncoal', 0.8475311398506165), ('premin', 0.8072287440299988), ('rsmo', 0.8071852326393127)]\n",
      "query term :  surveil\n",
      "[('monitor', 0.6749317049980164), ('trippabl', 0.6562860012054443), ('lcr', 0.6492546200752258), ('esfa', 0.647037148475647), ('pbnp', 0.6443026661872864)]\n",
      "query term :  analyst\n",
      "[('expect', 0.7662707567214966), ('forecast', 0.7617369890213013), ('predict', 0.755503237247467), ('bullish', 0.7492733001708984), ('sharpli', 0.7437876462936401)]\n",
      "query term :  what\n",
      "query term :  is\n",
      "query term :  a\n",
      "query term :  activ\n",
      "[('continu', 0.8237997889518738), ('primarili', 0.8104029297828674), ('encourag', 0.8077939748764038), ('maintain', 0.8045293688774109), ('provid', 0.8040804862976074)]\n",
      "query term :  margin\n"
     ]
    },
    {
     "name": "stderr",
     "output_type": "stream",
     "text": [
      " 38%|██████████████████████████████████████████████████████████████████████████▍                                                                                                                          | 211/558 [00:07<00:09, 36.17it/s]"
     ]
    },
    {
     "name": "stdout",
     "output_type": "stream",
     "text": [
      "[('increas', 0.7541835904121399), ('significantli', 0.7452189922332764), ('reflect', 0.7269640564918518), ('compar', 0.7267040610313416), ('profit', 0.7257062196731567)]\n",
      "query term :  what\n",
      "query term :  can\n",
      "query term :  contour\n",
      "[('groundwav', 0.6676185131072998), ('dbu', 0.6573449969291687), ('dnl', 0.6488443613052368), ('centerlin', 0.6393231153488159), ('headwal', 0.6334776878356934)]\n",
      "query term :  plow\n",
      "[('seeder', 0.7187853455543518), ('thresh', 0.677588701248169), ('hayfield', 0.6766726970672607), ('snowplow', 0.6566581726074219), ('rototil', 0.6561049818992615)]\n",
      "query term :  reduc\n",
      "[('increas', 0.8691466450691223), ('reduct', 0.8655964136123657), ('significantli', 0.8574375510215759), ('current', 0.8243513107299805), ('howev', 0.819837212562561)]\n",
      "query term :  what\n",
      "query term :  are\n",
      "query term :  the\n",
      "query term :  three\n",
      "query term :  percenters?\n",
      "query term :  tracheid\n",
      "query term :  are\n",
      "query term :  part\n",
      "query term :  of\n",
      "query term :  _____.\n",
      "query term :  hydrogen\n"
     ]
    },
    {
     "name": "stderr",
     "output_type": "stream",
     "text": [
      " 41%|█████████████████████████████████████████████████████████████████████████████████▏                                                                                                                   | 230/558 [00:07<00:05, 57.61it/s]"
     ]
    },
    {
     "name": "stdout",
     "output_type": "stream",
     "text": [
      "[('deuterium', 0.7085219025611877), ('sulfid', 0.7053672075271606), ('hydroxid', 0.7050617933273315), ('exotherm', 0.7034518718719482), ('ssme', 0.6982036828994751)]\n",
      "query term :  is\n",
      "query term :  a\n",
      "query term :  liquid\n",
      "[('absorb', 0.6703229546546936), ('uncreditworthi', 0.6689183712005615), ('unfrozen', 0.6594297289848328), ('backwash', 0.642491340637207), ('uninvest', 0.6424190402030945)]\n",
      "query term :  below\n",
      "query term :  what\n",
      "query term :  temperatur\n",
      "[('humid', 0.8112351298332214), ('fahrenheit', 0.7944245338439941), ('centigrad', 0.7655704021453857), ('convect', 0.7640888690948486), ('degc', 0.7434170842170715)]\n",
      "query term :  how\n",
      "query term :  is\n",
      "query term :  the\n",
      "query term :  weather\n",
      "[('colder', 0.7787215113639832), ('subfreez', 0.7710376977920532), ('inclement', 0.7664494514465332), ('beusterien', 0.7640239000320435), ('mckewon', 0.7600844502449036)]\n",
      "query term :  in\n",
      "query term :  jamaica\n"
     ]
    },
    {
     "name": "stderr",
     "output_type": "stream",
     "text": [
      " 43%|█████████████████████████████████████████████████████████████████████████████████████▍                                                                                                               | 242/558 [00:07<00:05, 55.61it/s]"
     ]
    },
    {
     "name": "stdout",
     "output_type": "stream",
     "text": [
      "[('jamaican', 0.7511110305786133), ('jmz', 0.7262395024299622), ('tobago', 0.6840389966964722), ('guyana', 0.6787497401237488), ('trinidad', 0.666888415813446)]\n",
      "query term :  how\n",
      "query term :  much\n",
      "query term :  money\n",
      "[('fund', 0.7903034090995789), ('cash', 0.7699685096740723), ('pay', 0.7651693820953369), ('paid', 0.760206937789917), ('come', 0.7575551271438599)]\n",
      "query term :  do\n",
      "query term :  motiv\n",
      "[('tri', 0.8027117848396301), ('appar', 0.7922222018241882), ('pursu', 0.787911593914032), ('way', 0.7860380411148071), ('convinc', 0.78327476978302)]\n",
      "query term :  speaker\n",
      "[('speakership', 0.7120611071586609), ('speak', 0.6816042065620422), ('speech', 0.6548361778259277), ('goguadz', 0.6512196660041809), ('parliament', 0.64931720495224)]\n",
      "query term :  make\n",
      "query term :  what\n",
      "query term :  can\n",
      "query term :  you\n",
      "query term :  do\n",
      "query term :  about\n",
      "query term :  discrimin\n"
     ]
    },
    {
     "name": "stderr",
     "output_type": "stream",
     "text": [
      "\r",
      " 44%|███████████████████████████████████████████████████████████████████████████████████████▌                                                                                                             | 248/558 [00:08<00:05, 54.15it/s]"
     ]
    },
    {
     "name": "stdout",
     "output_type": "stream",
     "text": [
      "[('discriminatori', 0.8336402177810669), ('prejudic', 0.7293956279754639), ('preona', 0.7062240242958069), ('racial', 0.6980715394020081), ('unfair', 0.6962818503379822)]\n",
      "query term :  in\n",
      "query term :  the\n",
      "query term :  workplac\n",
      "[('luntil', 0.6643980145454407), ('eurolink', 0.648540735244751), ('employ', 0.6455793976783752), ('hazcom', 0.6407438516616821), ('employe', 0.6403412222862244)]\n",
      "query term :  in\n",
      "query term :  oklahoma\n",
      "[('tulsa', 0.7550188302993774), ('okla', 0.7165018320083618), ('kansa', 0.7038512825965881), ('ponca', 0.6984918713569641), ('muskoge', 0.697638988494873)]\n",
      "query term :  citi\n",
      "[('resid', 0.7347192764282227), ('town', 0.7020249962806702), ('mayor', 0.697057843208313), ('rizzardi', 0.6839612126350403), ('tuomi', 0.683340311050415)]\n",
      "query term :  defin\n"
     ]
    },
    {
     "name": "stderr",
     "output_type": "stream",
     "text": [
      "\r",
      " 46%|█████████████████████████████████████████████████████████████████████████████████████████▋                                                                                                           | 254/558 [00:08<00:08, 37.22it/s]"
     ]
    },
    {
     "name": "stdout",
     "output_type": "stream",
     "text": [
      "[('appli', 0.8333507776260376), ('specif', 0.829007625579834), ('subject', 0.8282632231712341), ('consist', 0.8280556797981262), ('definit', 0.8261494636535645)]\n",
      "query term :  pareto\n",
      "[('undiversifi', 0.8008999228477478), ('allaway', 0.8002112507820129), ('struw', 0.796110212802887), ('schwob', 0.7945346236228943), ('worrington', 0.7907838821411133)]\n",
      "query term :  chart\n",
      "[('thomassi', 0.6620566248893738), ('penix', 0.65975022315979), ('graph', 0.6569902896881104), ('mccargar', 0.649516761302948), ('ligaya', 0.639843761920929)]\n",
      "query term :  in\n",
      "query term :  statist\n",
      "[('figur', 0.7499639987945557), ('statistician', 0.7493494153022766), ('data', 0.7237497568130493), ('percentag', 0.7214001417160034), ('opc', 0.7128580212593079)]\n",
      "query term :  defin\n"
     ]
    },
    {
     "name": "stderr",
     "output_type": "stream",
     "text": [
      "\r",
      " 46%|███████████████████████████████████████████████████████████████████████████████████████████▍                                                                                                         | 259/558 [00:08<00:08, 34.77it/s]"
     ]
    },
    {
     "name": "stdout",
     "output_type": "stream",
     "text": [
      "[('appli', 0.8333507776260376), ('specif', 0.829007625579834), ('subject', 0.8282632231712341), ('consist', 0.8280556797981262), ('definit', 0.8261494636535645)]\n",
      "query term :  etruscan\n",
      "[('piranesi', 0.8247199058532715), ('heraldri', 0.8206720948219299), ('iconographi', 0.8142902255058289), ('hellenist', 0.8140562772750854), ('quattrocento', 0.8090515732765198)]\n",
      "query term :  what\n",
      "query term :  type\n",
      "[('p', 0.6731663942337036), ('analysi', 0.6688046455383301), ('report', 0.666200578212738), ('gnz', 0.6520717144012451), ('bezlgium', 0.6499630808830261)]\n",
      "query term :  of\n",
      "query term :  conflict\n",
      "[('resolv', 0.794539213180542), ('recarv', 0.7845765948295593), ('concern', 0.7616278529167175), ('confront', 0.7611311078071594), ('disput', 0.7589999437332153)]\n",
      "query term :  doe\n"
     ]
    },
    {
     "name": "stderr",
     "output_type": "stream",
     "text": [
      " 48%|██████████████████████████████████████████████████████████████████████████████████████████████▎                                                                                                      | 267/558 [00:08<00:10, 28.96it/s]"
     ]
    },
    {
     "name": "stdout",
     "output_type": "stream",
     "text": [
      "[('ani', 0.9097920060157776), ('thi', 0.9078466296195984), ('mean', 0.9038177728652954), ('becaus', 0.8862507343292236), ('believ', 0.8820438981056213)]\n",
      "query term :  della\n",
      "[('sera', 0.7209736704826355), ('corrier', 0.6829959750175476), ('bradshaw', 0.6539750099182129), ('oggi', 0.5905506610870361), ('femina', 0.579818844795227)]\n",
      "query term :  face\n",
      "[('despit', 0.8211312890052795), ('come', 0.8120679259300232), ('difficult', 0.8118892908096313), ('seriou', 0.8051082491874695), ('ha', 0.8003093600273132)]\n",
      "query term :  in\n",
      "query term :  o\n",
      "[('brien', 0.5921333432197571), ('connor', 0.5697733759880066), ('box', 0.5694865584373474), ('neill', 0.5439862608909607), ('mavourneen', 0.5417649149894714)]\n",
      "query term :  henri\n"
     ]
    },
    {
     "name": "stderr",
     "output_type": "stream",
     "text": [
      " 49%|█████████████████████████████████████████████████████████████████████████████████████████████████                                                                                                    | 275/558 [00:09<00:08, 31.74it/s]"
     ]
    },
    {
     "name": "stdout",
     "output_type": "stream",
     "text": [
      "[('dirocco', 0.6388881802558899), ('edward', 0.5925304889678955), ('raymont', 0.5821235775947571), ('thoma', 0.578381359577179), ('moorehead', 0.5747954845428467)]\n",
      "query term :  the\n",
      "query term :  gift\n",
      "[('bequest', 0.6967383027076721), ('munific', 0.696087658405304), ('claster', 0.6886001229286194), ('donat', 0.6843485236167908), ('keepsak', 0.6793391704559326)]\n",
      "query term :  of\n",
      "query term :  the\n",
      "query term :  magi\n",
      "[('coypel', 0.7704100608825684), ('domenichino', 0.7480485439300537), ('leidtk', 0.739503800868988), ('neuerburg', 0.7388238310813904), ('stael', 0.7368655800819397)]\n",
      "query term :  who\n",
      "query term :  kill\n",
      "[('dead', 0.7908121347427368), ('wound', 0.7728928923606873), ('murder', 0.7531737685203552), ('attack', 0.7434553503990173), ('death', 0.7369412183761597)]\n",
      "query term :  nichola\n"
     ]
    },
    {
     "name": "stderr",
     "output_type": "stream",
     "text": [
      "\r",
      " 50%|██████████████████████████████████████████████████████████████████████████████████████████████████▌                                                                                                  | 279/558 [00:09<00:09, 28.75it/s]"
     ]
    },
    {
     "name": "stdout",
     "output_type": "stream",
     "text": [
      "[('bonsor', 0.622188925743103), ('goodison', 0.6158439517021179), ('denton', 0.6044878363609314), ('lyell', 0.5937690138816833), ('soam', 0.5897502303123474)]\n",
      "query term :  ii\n",
      "[('iii', 0.8668097853660583), ('iv', 0.8387750387191772), ('vi', 0.7426925301551819), ('section', 0.7395340800285339), ('vii', 0.7302668690681458)]\n",
      "query term :  of\n",
      "query term :  russia\n",
      "[('russian', 0.8475798964500427), ('moscow', 0.8144582509994507), ('yeltsin', 0.7979047298431396), ('ukrain', 0.7666874527931213), ('mashit', 0.7625734806060791)]\n",
      "query term :  how\n",
      "query term :  much\n",
      "query term :  would\n",
      "query term :  it\n",
      "query term :  cost\n",
      "[('expens', 0.86053466796875), ('estim', 0.7990891933441162), ('incur', 0.799061119556427), ('benefit', 0.7921582460403442), ('reduc', 0.7910562753677368)]\n",
      "query term :  to\n",
      "query term :  instal\n"
     ]
    },
    {
     "name": "stderr",
     "output_type": "stream",
     "text": [
      " 52%|██████████████████████████████████████████████████████████████████████████████████████████████████████▍                                                                                              | 290/558 [00:09<00:07, 36.18it/s]"
     ]
    },
    {
     "name": "stdout",
     "output_type": "stream",
     "text": [
      "[('equip', 0.736682653427124), ('exist', 0.7314672470092773), ('replac', 0.7199282050132751), ('unservic', 0.7180700302124023), ('oper', 0.7159746885299683)]\n",
      "query term :  my\n",
      "query term :  own\n",
      "query term :  wind\n",
      "[('gust', 0.7204062938690186), ('breez', 0.7113263607025146), ('gusti', 0.7055244445800781), ('crosswind', 0.7053642868995667), ('windiest', 0.7009129524230957)]\n",
      "query term :  turbin\n",
      "[('ccgt', 0.7002537250518799), ('exergi', 0.6884340643882751), ('degc', 0.6848628520965576), ('windpow', 0.6837239861488342), ('mw', 0.6829321980476379)]\n",
      "query term :  what\n",
      "query term :  is\n",
      "query term :  a\n",
      "query term :  nonconformity?\n",
      "query term :  earth\n",
      "[('planet', 0.7696027159690857), ('jovian', 0.7156447768211365), ('meteorit', 0.700142502784729), ('magnetospher', 0.6968939900398254), ('flybi', 0.695017397403717)]\n",
      "query term :  scienc\n"
     ]
    },
    {
     "name": "stderr",
     "output_type": "stream",
     "text": [
      " 54%|██████████████████████████████████████████████████████████████████████████████████████████████████████████▎                                                                                          | 301/558 [00:09<00:07, 36.38it/s]"
     ]
    },
    {
     "name": "stdout",
     "output_type": "stream",
     "text": [
      "[('scientif', 0.7244694232940674), ('bioengin', 0.7228220701217651), ('biophys', 0.7005223631858826), ('technolog', 0.6954249143600464), ('geoscienc', 0.6948871612548828)]\n",
      "query term :  whi\n",
      "[('know', 0.9161683320999146), ('anyth', 0.9082127213478088), ('explain', 0.9024418592453003), ('think', 0.8979377746582031), ('thing', 0.8961999416351318)]\n",
      "query term :  do\n",
      "query term :  hunter\n",
      "[('hunt', 0.64078289270401), ('swan', 0.6344977021217346), ('milich', 0.6010838747024536), ('butterkist', 0.5887166261672974), ('palafouta', 0.5816699862480164)]\n",
      "query term :  pattern\n",
      "[('typic', 0.7774949073791504), ('contrast', 0.7632639408111572), ('usual', 0.7613850235939026), ('exampl', 0.7611979842185974), ('shape', 0.7602352499961853)]\n",
      "query term :  their\n",
      "query term :  shotguns?\n",
      "query term :  what\n",
      "query term :  amino\n"
     ]
    },
    {
     "name": "stderr",
     "output_type": "stream",
     "text": [
      " 55%|█████████████████████████████████████████████████████████████████████████████████████████████████████████████                                                                                        | 309/558 [00:09<00:07, 35.22it/s]"
     ]
    },
    {
     "name": "stdout",
     "output_type": "stream",
     "text": [
      "[('enzym', 0.7172580361366272), ('phenylalanin', 0.7172296047210693), ('leucin', 0.7161139845848083), ('protein', 0.7137424349784851), ('isoleucin', 0.7128145694732666)]\n",
      "query term :  produc\n",
      "[('product', 0.8565758466720581), ('import', 0.7614102363586426), ('exampl', 0.7427494525909424), ('combin', 0.7407726049423218), ('ha', 0.7390899658203125)]\n",
      "query term :  carnitin\n",
      "[('multifactori', 0.8877145648002625), ('lysozym', 0.8739398717880249), ('kritchevski', 0.873767077922821), ('multinutri', 0.8730060458183289), ('riboflavin', 0.8728811144828796)]\n",
      "query term :  what\n",
      "query term :  metal\n",
      "[('unchgd', 0.7222344279289246), ('copper', 0.7137531638145447), ('baack', 0.7066687941551208), ('remelt', 0.70112544298172), ('ipai', 0.6941813826560974)]\n",
      "query term :  are\n",
      "query term :  hip\n"
     ]
    },
    {
     "name": "stderr",
     "output_type": "stream",
     "text": [
      "\r",
      " 56%|██████████████████████████████████████████████████████████████████████████████████████████████████████████████▌                                                                                      | 313/558 [00:10<00:07, 34.93it/s]"
     ]
    },
    {
     "name": "stdout",
     "output_type": "stream",
     "text": [
      "[('thigh', 0.6994348168373108), ('pointi', 0.6716222763061523), ('flexor', 0.6700162291526794), ('cheekbon', 0.669603705406189), ('bowleg', 0.6540791988372803)]\n",
      "query term :  replac\n",
      "[('ha', 0.7702800631523132), ('remov', 0.7624423503875732), ('sinc', 0.7510560750961304), ('current', 0.7488859295845032), ('onc', 0.7472215294837952)]\n",
      "query term :  made\n",
      "query term :  of\n",
      "query term :  whi\n",
      "[('know', 0.9161683320999146), ('anyth', 0.9082127213478088), ('explain', 0.9024418592453003), ('think', 0.8979377746582031), ('thing', 0.8961999416351318)]\n",
      "query term :  is\n",
      "query term :  pete\n",
      "[('bentovoja', 0.7234047055244446), ('bertolini', 0.665949285030365), ('litrenta', 0.6499399542808533), ('arbogast', 0.6462100148200989), ('axthelm', 0.6373807787895203)]\n",
      "query term :  rose\n"
     ]
    },
    {
     "name": "stderr",
     "output_type": "stream",
     "text": [
      " 58%|█████████████████████████████████████████████████████████████████████████████████████████████████████████████████▎                                                                                   | 321/558 [00:10<00:07, 31.69it/s]"
     ]
    },
    {
     "name": "stdout",
     "output_type": "stream",
     "text": [
      "[('fell', 0.85302734375), ('rise', 0.774307131767273), ('drop', 0.7734898328781128), ('fall', 0.7691742181777954), ('declin', 0.766547441482544)]\n",
      "query term :  ban\n",
      "[('outlaw', 0.7304889559745789), ('restrict', 0.7173061966896057), ('prohibit', 0.7073472738265991), ('illeg', 0.6690041422843933), ('oppos', 0.6643667817115784)]\n",
      "query term :  from\n",
      "query term :  hall\n",
      "[('fame', 0.6706975102424622), ('triforium', 0.6508131623268127), ('heinsbergen', 0.6341960430145264), ('guest', 0.6267139911651611), ('citi', 0.6236919164657593)]\n",
      "query term :  of\n",
      "query term :  fame\n",
      "[('legendari', 0.7177906632423401), ('cooperstown', 0.7155889272689819), ('famou', 0.7154198288917542), ('chicagoan', 0.6978999972343445), ('famer', 0.6862806677818298)]\n",
      "query term :  what\n",
      "query term :  is\n",
      "query term :  reba\n"
     ]
    },
    {
     "name": "stderr",
     "output_type": "stream",
     "text": [
      " 59%|████████████████████████████████████████████████████████████████████████████████████████████████████████████████████▏                                                                                | 329/558 [00:10<00:06, 33.62it/s]"
     ]
    },
    {
     "name": "stdout",
     "output_type": "stream",
     "text": [
      "[('mcentir', 0.843951940536499), ('emmyl', 0.7808399796485901), ('scialfa', 0.7659651637077332), ('yoakam', 0.7625051140785217), ('wynonna', 0.7598409056663513)]\n",
      "query term :  mcentire'\n",
      "query term :  net\n",
      "[('earn', 0.791093647480011), ('profit', 0.7805544137954712), ('loss', 0.7488727569580078), ('share', 0.7466696500778198), ('compar', 0.7462523579597473)]\n",
      "query term :  worth\n",
      "[('bought', 0.7619866728782654), ('deal', 0.7566890120506287), ('buy', 0.7536776661872864), ('year', 0.7506740689277649), ('paid', 0.7447544932365417)]\n",
      "query term :  when\n",
      "query term :  did\n",
      "query term :  rock\n",
      "[('soundgarden', 0.6813146471977234), ('roadi', 0.6812981367111206), ('stone', 0.659491240978241), ('queensrych', 0.6591412425041199), ('quarrymen', 0.6591151356697083)]\n",
      "query term :  n\n"
     ]
    },
    {
     "name": "stderr",
     "output_type": "stream",
     "text": [
      "\r",
      " 60%|█████████████████████████████████████████████████████████████████████████████████████████████████████████████████████▌                                                                               | 333/558 [00:10<00:07, 30.31it/s]"
     ]
    },
    {
     "name": "stdout",
     "output_type": "stream",
     "text": [
      "[('g', 0.5966386795043945), ('w', 0.5868251323699951), ('e', 0.5848443508148193), ('gedi', 0.5794293284416199), ('indf', 0.5703184008598328)]\n",
      "query term :  roll\n",
      "[('royc', 0.6721060276031494), ('big', 0.6476327776908875), ('like', 0.6464747190475464), ('grindston', 0.6464154720306396), ('turn', 0.6452786326408386)]\n",
      "query term :  begin?\n",
      "query term :  averag\n",
      "[('lowest', 0.8053615093231201), ('percentag', 0.8023721575737), ('total', 0.7872267961502075), ('compar', 0.7867040038108826), ('year', 0.7656527757644653)]\n",
      "query term :  wed\n",
      "[('bride', 0.7401614189147949), ('nuptial', 0.6878910064697266), ('bridegroom', 0.6795885562896729), ('newlyw', 0.6774041056632996), ('marriag', 0.6626399755477905)]\n",
      "query term :  dress\n"
     ]
    },
    {
     "name": "stderr",
     "output_type": "stream",
     "text": [
      " 61%|████████████████████████████████████████████████████████████████████████████████████████████████████████████████████████                                                                             | 340/558 [00:11<00:07, 27.46it/s]"
     ]
    },
    {
     "name": "stdout",
     "output_type": "stream",
     "text": [
      "[('wore', 0.7875025272369385), ('dressi', 0.7862291932106018), ('pantsuit', 0.7847043871879578), ('attir', 0.7828571200370789), ('wear', 0.7794973850250244)]\n",
      "query term :  alter\n",
      "[('chang', 0.7645794749259949), ('affect', 0.7641370892524719), ('exist', 0.7539878487586975), ('ani', 0.7496254444122314), ('creat', 0.7482200264930725)]\n",
      "query term :  cost\n",
      "[('expens', 0.86053466796875), ('estim', 0.7990891933441162), ('incur', 0.799061119556427), ('benefit', 0.7921582460403442), ('reduc', 0.7910562753677368)]\n",
      "query term :  are\n",
      "query term :  natur\n",
      "[('resourc', 0.7493469715118408), ('particular', 0.7396695017814636), ('thi', 0.7391166687011719), ('becom', 0.7365379929542542), ('essenti', 0.7319312691688538)]\n",
      "query term :  record\n"
     ]
    },
    {
     "name": "stderr",
     "output_type": "stream",
     "text": [
      " 62%|██████████████████████████████████████████████████████████████████████████████████████████████████████████████████████████▏                                                                          | 346/558 [00:11<00:08, 24.71it/s]"
     ]
    },
    {
     "name": "stdout",
     "output_type": "stream",
     "text": [
      "[('dure', 0.7599931955337524), ('thi', 0.7595893740653992), ('begin', 0.7529536485671997), ('befor', 0.7529298663139343), ('second', 0.7518159747123718)]\n",
      "query term :  public\n",
      "[('concern', 0.8025217652320862), ('consid', 0.7874441742897034), ('thi', 0.7857978940010071), ('provid', 0.7844944000244141), ('author', 0.7841784358024597)]\n",
      "query term :  inform\n",
      "[('contact', 0.8129785656929016), ('obtain', 0.8093245625495911), ('request', 0.797339677810669), ('regard', 0.7849072813987732), ('address', 0.7821350693702698)]\n",
      "query term :  how\n",
      "query term :  mani\n",
      "[('themselv', 0.9047441482543945), ('especi', 0.902277946472168), ('becaus', 0.9002283215522766), ('abl', 0.8960356116294861), ('come', 0.8945487141609192)]\n",
      "query term :  son\n"
     ]
    },
    {
     "name": "stderr",
     "output_type": "stream",
     "text": [
      "\r",
      " 63%|███████████████████████████████████████████████████████████████████████████████████████████████████████████████████████████▏                                                                         | 349/558 [00:11<00:09, 22.16it/s]"
     ]
    },
    {
     "name": "stdout",
     "output_type": "stream",
     "text": [
      "[('father', 0.8582492470741272), ('daughter', 0.7913298606872559), ('eldest', 0.7808257937431335), ('mother', 0.7691760659217834), ('wife', 0.7648812532424927)]\n",
      "query term :  robert\n",
      "[('charl', 0.6475854516029358), ('william', 0.6420220732688904), ('john', 0.6383519172668457), ('jame', 0.6379296183586121), ('richard', 0.6249623894691467)]\n",
      "query term :  kraft\n",
      "[('merwin', 0.6355389952659607), ('mccartin', 0.6302902698516846), ('brouett', 0.6298588514328003), ('kopeni', 0.608772337436676), ('eylar', 0.6004835963249207)]\n",
      "query term :  ha\n",
      "[('sinc', 0.9170398116111755), ('thi', 0.9165635108947754), ('s', 0.9145845770835876), ('alreadi', 0.9141880869865417), ('howev', 0.9113154411315918)]\n",
      "query term :  what\n",
      "query term :  type\n"
     ]
    },
    {
     "name": "stderr",
     "output_type": "stream",
     "text": [
      " 64%|█████████████████████████████████████████████████████████████████████████████████████████████████████████████████████████████▋                                                                       | 356/558 [00:11<00:07, 26.18it/s]"
     ]
    },
    {
     "name": "stdout",
     "output_type": "stream",
     "text": [
      "[('p', 0.6731663942337036), ('analysi', 0.6688046455383301), ('report', 0.666200578212738), ('gnz', 0.6520717144012451), ('bezlgium', 0.6499630808830261)]\n",
      "query term :  of\n",
      "query term :  tissu\n",
      "[('endotheli', 0.7057860493659973), ('epiderm', 0.6929787993431091), ('pituitari', 0.6919828057289124), ('excret', 0.6911090016365051), ('mucou', 0.689116358757019)]\n",
      "query term :  are\n",
      "query term :  bronchiol\n",
      "[('histiocyt', 0.9389787912368774), ('epithelium', 0.9367586970329285), ('parathyroid', 0.9317302107810974), ('ventilatori', 0.9316973686218262), ('alkalosi', 0.9283621311187744)]\n",
      "query term :  what\n",
      "query term :  is\n",
      "query term :  chaff\n",
      "[('antiradar', 0.7272059917449951), ('submunit', 0.7167720198631287), ('srboc', 0.7081268429756165), ('dagai', 0.6949045062065125), ('antihelicopt', 0.6918659210205078)]\n",
      "query term :  and\n",
      "query term :  flare\n"
     ]
    },
    {
     "name": "stderr",
     "output_type": "stream",
     "text": [
      "\r",
      " 65%|███████████████████████████████████████████████████████████████████████████████████████████████████████████████████████████████▍                                                                     | 361/558 [00:11<00:06, 30.70it/s]"
     ]
    },
    {
     "name": "stdout",
     "output_type": "stream",
     "text": [
      "[('erupt', 0.6865832805633545), ('aflam', 0.6373929977416992), ('ignit', 0.6362714767456055), ('smolder', 0.6249421834945679), ('rage', 0.6232569217681885)]\n",
      "query term :  dog\n",
      "[('kennel', 0.768707811832428), ('kubro', 0.7635352611541748), ('doberman', 0.7612334489822388), ('cat', 0.7486289739608765), ('weatherwax', 0.7431434988975525)]\n",
      "query term :  day\n",
      "[('befor', 0.8795298337936401), ('dure', 0.8583779335021973), ('later', 0.8542000651359558), ('wa', 0.8416955471038818), ('onc', 0.8379051089286804)]\n",
      "query term :  afternoon\n",
      "[('morn', 0.8380506634712219), ('week', 0.7617711424827576), ('today', 0.7608193159103394), ('earli', 0.7538885474205017), ('night', 0.7469336986541748)]\n",
      "query term :  mean\n"
     ]
    },
    {
     "name": "stderr",
     "output_type": "stream",
     "text": [
      " 66%|█████████████████████████████████████████████████████████████████████████████████████████████████████████████████████████████████▉                                                                   | 368/558 [00:12<00:07, 25.35it/s]"
     ]
    },
    {
     "name": "stdout",
     "output_type": "stream",
     "text": [
      "[('doe', 0.9038175940513611), ('thi', 0.8996317386627197), ('ani', 0.8979083895683289), ('howev', 0.8896620273590088), ('becaus', 0.8894392848014832)]\n",
      "query term :  mean\n",
      "[('doe', 0.9038175940513611), ('thi', 0.8996317386627197), ('ani', 0.8979083895683289), ('howev', 0.8896620273590088), ('becaus', 0.8894392848014832)]\n",
      "query term :  of\n",
      "query term :  shebang\n",
      "[('underdress', 0.857850968837738), ('froufrou', 0.856519877910614), ('arting', 0.8503180146217346), ('vampish', 0.8486706018447876), ('hiya', 0.8469820618629456)]\n",
      "query term :  is\n",
      "query term :  caffein\n",
      "[('intoxic', 0.7215177416801453), ('lobelin', 0.7193285226821899), ('decaffein', 0.7172631025314331), ('opiat', 0.7166724801063538), ('niacin', 0.7119771242141724)]\n",
      "query term :  an\n",
      "query term :  narcot\n"
     ]
    },
    {
     "name": "stderr",
     "output_type": "stream",
     "text": [
      " 67%|████████████████████████████████████████████████████████████████████████████████████████████████████████████████████████████████████▋                                                                | 376/558 [00:12<00:06, 29.99it/s]"
     ]
    },
    {
     "name": "stdout",
     "output_type": "stream",
     "text": [
      "[('traffick', 0.7196805477142334), ('cocain', 0.7133435010910034), ('marijuana', 0.69336998462677), ('jptdd', 0.687839150428772), ('heroin', 0.6790258288383484)]\n",
      "query term :  what\n",
      "query term :  medium\n",
      "[('size', 0.7845362424850464), ('larg', 0.7481626868247986), ('scale', 0.7332391738891602), ('small', 0.731403648853302), ('pyme', 0.7228591442108154)]\n",
      "query term :  do\n",
      "query term :  radio\n",
      "[('network', 0.7674489617347717), ('televis', 0.751961886882782), ('broadcast', 0.7349855303764343), ('rebroadcast', 0.6706781983375549), ('braodcast', 0.6516643762588501)]\n",
      "query term :  wave\n",
      "[('shock', 0.7049098014831543), ('sudden', 0.6813273429870605), ('turn', 0.677614688873291), ('suddenli', 0.6776031255722046), ('anoth', 0.6768385767936707)]\n",
      "query term :  travel\n"
     ]
    },
    {
     "name": "stderr",
     "output_type": "stream",
     "text": [
      "\r",
      " 68%|██████████████████████████████████████████████████████████████████████████████████████████████████████████████████████████████████████▏                                                              | 380/558 [00:12<00:06, 28.00it/s]"
     ]
    },
    {
     "name": "stdout",
     "output_type": "stream",
     "text": [
      "[('eurail', 0.74040687084198), ('airfar', 0.7382063269615173), ('kirker', 0.7310673594474792), ('eurailpass', 0.7289994359016418), ('journey', 0.7209303379058838)]\n",
      "query term :  through\n",
      "query term :  ia\n",
      "[('ks', 0.5941097140312195), ('decorah', 0.5661449432373047), ('ottumwa', 0.5427421927452087), ('oskaloosa', 0.5353584289550781), ('keokuk', 0.5338683128356934)]\n",
      "query term :  suffix\n",
      "[('predesign', 0.6950121521949768), ('alphanumer', 0.6884962916374207), ('mailstream', 0.6788791418075562), ('preprint', 0.6779653429985046), ('issn', 0.675979733467102)]\n",
      "query term :  mean\n",
      "[('doe', 0.9038175940513611), ('thi', 0.8996317386627197), ('ani', 0.8979083895683289), ('howev', 0.8896620273590088), ('becaus', 0.8894392848014832)]\n",
      "query term :  defin\n"
     ]
    },
    {
     "name": "stderr",
     "output_type": "stream",
     "text": [
      " 69%|████████████████████████████████████████████████████████████████████████████████████████████████████████████████████████████████████████▎                                                            | 386/558 [00:12<00:06, 25.10it/s]"
     ]
    },
    {
     "name": "stdout",
     "output_type": "stream",
     "text": [
      "[('appli', 0.8333507776260376), ('specif', 0.829007625579834), ('subject', 0.8282632231712341), ('consist', 0.8280556797981262), ('definit', 0.8261494636535645)]\n",
      "query term :  bmt\n",
      "[('fuher', 0.7886818647384644), ('silverlink', 0.7793415784835815), ('smartcom', 0.7789437174797058), ('scriber', 0.7774404287338257), ('edhdeafdft', 0.7770888805389404)]\n",
      "query term :  medic\n",
      "[('hospit', 0.8277555704116821), ('patient', 0.8196702003479004), ('physician', 0.8161751627922058), ('doctor', 0.8120101690292358), ('care', 0.7826788425445557)]\n",
      "query term :  where\n",
      "query term :  is\n",
      "query term :  the\n",
      "query term :  show\n",
      "query term :  shameless\n",
      "[('prattl', 0.7835578918457031), ('impud', 0.7818824052810669), ('shamelessli', 0.7758456468582153), ('sycoph', 0.7731354236602783), ('inveigl', 0.7646482586860657)]\n",
      "query term :  film\n"
     ]
    },
    {
     "name": "stderr",
     "output_type": "stream",
     "text": [
      " 71%|███████████████████████████████████████████████████████████████████████████████████████████████████████████████████████████████████████████▍                                                         | 395/558 [00:13<00:05, 31.29it/s]"
     ]
    },
    {
     "name": "stdout",
     "output_type": "stream",
     "text": [
      "[('movi', 0.8378276824951172), ('filmmak', 0.7744458913803101), ('amblin', 0.7480233907699585), ('jaglom', 0.7451872229576111), ('moviego', 0.7441203594207764)]\n",
      "query term :  how\n",
      "query term :  long\n",
      "[('short', 0.8422746062278748), ('longer', 0.8412967920303345), ('way', 0.8171036839485168), ('come', 0.8169825673103333), ('term', 0.8138024806976318)]\n",
      "query term :  doe\n",
      "[('ani', 0.9097920060157776), ('thi', 0.9078466296195984), ('mean', 0.9038177728652954), ('becaus', 0.8862507343292236), ('believ', 0.8820438981056213)]\n",
      "query term :  it\n",
      "query term :  take\n",
      "query term :  to\n",
      "query term :  remov\n",
      "[('follow', 0.7784044146537781), ('elimin', 0.7716027498245239), ('addit', 0.7682818174362183), ('add', 0.7641072273254395), ('replac', 0.7624421715736389)]\n",
      "query term :  wisdom\n"
     ]
    },
    {
     "name": "stderr",
     "output_type": "stream",
     "text": [
      " 72%|██████████████████████████████████████████████████████████████████████████████████████████████████████████████████████████████████████████████▎                                                      | 403/558 [00:13<00:04, 33.74it/s]"
     ]
    },
    {
     "name": "stdout",
     "output_type": "stream",
     "text": [
      "[('perspicac', 0.7880136370658875), ('sagac', 0.7834173440933228), ('farsighted', 0.781736433506012), ('mind', 0.7450284957885742), ('inde', 0.7443565130233765)]\n",
      "query term :  tooth\n",
      "[('teeth', 0.6933211088180542), ('bulbou', 0.5909070372581482), ('mastodon', 0.5898849368095398), ('nail', 0.5892676711082458), ('snout', 0.5821003913879395)]\n",
      "query term :  when\n",
      "query term :  did\n",
      "query term :  famili\n",
      "[('children', 0.7836295366287231), ('live', 0.7585734128952026), ('stepchildren', 0.7486391663551331), ('mother', 0.7464681267738342), ('care', 0.7335807681083679)]\n",
      "query term :  feud\n",
      "[('squabbl', 0.682638943195343), ('acrimoni', 0.6794775128364563), ('rivalri', 0.6786671280860901), ('bitter', 0.6758999228477478), ('quarrel', 0.6568739414215088)]\n",
      "query term :  come\n"
     ]
    },
    {
     "name": "stderr",
     "output_type": "stream",
     "text": [
      " 74%|█████████████████████████████████████████████████████████████████████████████████████████████████████████████████████████████████████████████████                                                    | 411/558 [00:13<00:04, 30.79it/s]"
     ]
    },
    {
     "name": "stdout",
     "output_type": "stream",
     "text": [
      "[('like', 0.931219220161438), ('way', 0.9215014576911926), ('turn', 0.9113749265670776), ('better', 0.9084922671318054), ('sure', 0.9084504842758179)]\n",
      "query term :  out?\n",
      "query term :  doe\n",
      "[('ani', 0.9097920060157776), ('thi', 0.9078466296195984), ('mean', 0.9038177728652954), ('becaus', 0.8862507343292236), ('believ', 0.8820438981056213)]\n",
      "query term :  mississippi\n",
      "[('louisiana', 0.7325793504714966), ('tennesse', 0.7088363766670227), ('alabama', 0.6997881531715393), ('vicksburg', 0.6879408359527588), ('tunica', 0.6738152503967285)]\n",
      "query term :  have\n",
      "query term :  an\n",
      "query term :  incom\n",
      "[('tax', 0.8188992738723755), ('revenu', 0.7964631915092468), ('spendabl', 0.7879111170768738), ('claimabl', 0.7616305351257324), ('payment', 0.7582429051399231)]\n",
      "query term :  tax\n"
     ]
    },
    {
     "name": "stderr",
     "output_type": "stream",
     "text": [
      "\r",
      " 74%|██████████████████████████████████████████████████████████████████████████████████████████████████████████████████████████████████████████████████▌                                                  | 415/558 [00:13<00:05, 28.54it/s]"
     ]
    },
    {
     "name": "stdout",
     "output_type": "stream",
     "text": [
      "[('incom', 0.8188992142677307), ('revenu', 0.7778624892234802), ('underdeclar', 0.7448433637619019), ('taxpay', 0.7433315515518188), ('profit', 0.7324451804161072)]\n",
      "query term :  who\n",
      "query term :  sing\n",
      "[('sang', 0.8165301084518433), ('singer', 0.8004438877105713), ('tambourin', 0.7956551909446716), ('cappella', 0.7892665266990662), ('songbook', 0.7812739610671997)]\n",
      "query term :  monk\n",
      "[('drepung', 0.5954192876815796), ('rodwel', 0.5896875262260437), ('monast', 0.5877643823623657), ('namgyal', 0.5875540971755981), ('theloniu', 0.5825668573379517)]\n",
      "query term :  theme\n",
      "[('razzmatazz', 0.7398582696914673), ('inspir', 0.7274203300476074), ('disneyworld', 0.7265496253967285), ('featur', 0.7142436504364014), ('reverenti', 0.7130246758460999)]\n",
      "query term :  song\n"
     ]
    },
    {
     "name": "stderr",
     "output_type": "stream",
     "text": [
      " 76%|████████████████████████████████████████████████████████████████████████████████████████████████████████████████████████████████████████████████████▉                                                | 422/558 [00:14<00:04, 30.30it/s]"
     ]
    },
    {
     "name": "stdout",
     "output_type": "stream",
     "text": [
      "[('sing', 0.7333082556724548), ('sang', 0.725254476070404), ('songbook', 0.7227606773376465), ('sung', 0.7103714346885681), ('centenarian', 0.7063554525375366)]\n",
      "query term :  what\n",
      "query term :  is\n",
      "query term :  chronomet\n",
      "[('curvilinear', 0.8218525052070618), ('aerofoil', 0.8112487196922302), ('rugged', 0.804568886756897), ('amidship', 0.8033733367919922), ('toggl', 0.7976931929588318)]\n",
      "query term :  who\n",
      "query term :  invent\n",
      "[('inventor', 0.7530590891838074), ('innov', 0.6983747482299805), ('unexamin', 0.6840454936027527), ('imagin', 0.6832585334777832), ('idea', 0.6724855303764343)]\n",
      "query term :  it\n",
      "query term :  definit\n",
      "[('mean', 0.842530369758606), ('defin', 0.8261494040489197), ('appli', 0.8240614533424377), ('doe', 0.8123292326927185), ('ani', 0.8120343685150146)]\n",
      "query term :  of\n",
      "query term :  laudabl\n"
     ]
    },
    {
     "name": "stderr",
     "output_type": "stream",
     "text": [
      " 77%|████████████████████████████████████████████████████████████████████████████████████████████████████████████████████████████████████████████████████████▌                                            | 432/558 [00:14<00:03, 36.40it/s]"
     ]
    },
    {
     "name": "stdout",
     "output_type": "stream",
     "text": [
      "[('praiseworthi', 0.721924901008606), ('axiomat', 0.714729905128479), ('widerang', 0.7126115560531616), ('encourag', 0.7115931510925293), ('effort', 0.7107254266738892)]\n",
      "query term :  who\n",
      "query term :  is\n",
      "query term :  rep\n",
      "[('dreier', 0.7612379193305969), ('moorhead', 0.7475845217704773), ('yea', 0.7215768098831177), ('beilenson', 0.7168542742729187), ('dellum', 0.7167329788208008)]\n",
      "query term :  scalise?\n",
      "query term :  define:\n",
      "query term :  geon\n",
      "[('cytec', 0.798516571521759), ('organosilicon', 0.7738428711891174), ('praxair', 0.7628209590911865), ('polybutylen', 0.7516843676567078), ('reneer', 0.7498360872268677)]\n",
      "query term :  what\n",
      "query term :  the\n",
      "query term :  best\n",
      "[('better', 0.8702634572982788), ('alway', 0.8497808575630188), ('come', 0.8470752239227295), ('like', 0.8460804224014282), ('anoth', 0.8439217209815979)]\n",
      "query term :  way\n"
     ]
    },
    {
     "name": "stderr",
     "output_type": "stream",
     "text": [
      " 79%|███████████████████████████████████████████████████████████████████████████████████████████████████████████████████████████████████████████████████████████▎                                         | 440/558 [00:14<00:03, 35.30it/s]"
     ]
    },
    {
     "name": "stdout",
     "output_type": "stream",
     "text": [
      "[('come', 0.9215014576911926), ('thing', 0.913500189781189), ('like', 0.9069027304649353), ('alway', 0.9062970280647278), ('tri', 0.9054024815559387)]\n",
      "query term :  to\n",
      "query term :  get\n",
      "query term :  cloth\n",
      "[('haberdasheri', 0.7793892621994019), ('undergar', 0.7609688639640808), ('shoe', 0.7589421272277832), ('nightwear', 0.7471663951873779), ('woolen', 0.7449809908866882)]\n",
      "query term :  white\n",
      "[('black', 0.7369115352630615), ('like', 0.685542106628418), ('look', 0.6797159314155579), ('colorblind', 0.6770610213279724), ('dark', 0.6682717204093933)]\n",
      "query term :  averag\n",
      "[('lowest', 0.8053615093231201), ('percentag', 0.8023721575737), ('total', 0.7872267961502075), ('compar', 0.7867040038108826), ('year', 0.7656527757644653)]\n",
      "query term :  salari\n"
     ]
    },
    {
     "name": "stderr",
     "output_type": "stream",
     "text": [
      "\r",
      " 80%|████████████████████████████████████████████████████████████████████████████████████████████████████████████████████████████████████████████████████████████▊                                        | 444/558 [00:14<00:03, 31.21it/s]"
     ]
    },
    {
     "name": "stdout",
     "output_type": "stream",
     "text": [
      "[('pay', 0.76368647813797), ('bonus', 0.7485219240188599), ('wage', 0.7326492667198181), ('paid', 0.7291601896286011), ('perquisit', 0.7189748287200928)]\n",
      "query term :  for\n",
      "query term :  dental\n",
      "[('dentist', 0.7259582877159119), ('orthodont', 0.7151744365692139), ('medic', 0.7071585059165955), ('dentistri', 0.687678873538971), ('prosthet', 0.6814656257629395)]\n",
      "query term :  hygienist\n",
      "[('sanitarian', 0.7258795499801636), ('dentec', 0.7193027138710022), ('rfci', 0.7148234844207764), ('aiha', 0.7127246260643005), ('subspecialti', 0.7113091349601746)]\n",
      "query term :  in\n",
      "query term :  nebraska\n",
      "[('iowa', 0.7440288066864014), ('kansa', 0.715721607208252), ('cornhusk', 0.7041860222816467), ('oklahoma', 0.6968958973884583), ('dakota', 0.6811521053314209)]\n",
      "query term :  describ\n"
     ]
    },
    {
     "name": "stderr",
     "output_type": "stream",
     "text": [
      " 81%|███████████████████████████████████████████████████████████████████████████████████████████████████████████████████████████████████████████████████████████████▌                                     | 452/558 [00:14<00:03, 29.98it/s]"
     ]
    },
    {
     "name": "stdout",
     "output_type": "stream",
     "text": [
      "[('thi', 0.8430172801017761), ('ani', 0.8401727080345154), ('consid', 0.8180758953094482), ('follow', 0.8154994249343872), ('consist', 0.8110405206680298)]\n",
      "query term :  how\n",
      "query term :  muscl\n",
      "[('flex', 0.7077465653419495), ('bicep', 0.7062858939170837), ('spasm', 0.6638378500938416), ('muschler', 0.662926435470581), ('muscular', 0.66045743227005)]\n",
      "query term :  and\n",
      "query term :  bone\n",
      "[('marrow', 0.6917670965194702), ('muschler', 0.6715613007545471), ('dalski', 0.6646033525466919), ('vertebra', 0.6643498539924622), ('calcif', 0.6619515419006348)]\n",
      "query term :  work\n",
      "[('way', 0.8413355946540833), ('everi', 0.830820620059967), ('experi', 0.8305940628051758), ('need', 0.8263767957687378), ('abl', 0.824783444404602)]\n",
      "query term :  togeth\n"
     ]
    },
    {
     "name": "stderr",
     "output_type": "stream",
     "text": [
      " 83%|██████████████████████████████████████████████████████████████████████████████████████████████████████████████████████████████████████████████████████████████████▊                                  | 461/558 [00:15<00:03, 31.88it/s]"
     ]
    },
    {
     "name": "stdout",
     "output_type": "stream",
     "text": [
      "[('way', 0.8680449724197388), ('bring', 0.8608965873718262), ('come', 0.8561270236968994), ('like', 0.8545937538146973), ('anoth', 0.8433391451835632)]\n",
      "query term :  to\n",
      "query term :  produc\n",
      "[('product', 0.8565758466720581), ('import', 0.7614102363586426), ('exampl', 0.7427494525909424), ('combin', 0.7407726049423218), ('ha', 0.7390899658203125)]\n",
      "query term :  movement\n",
      "[('opposit', 0.6763167381286621), ('ultraright', 0.6712307333946228), ('especi', 0.6686477065086365), ('support', 0.6644594073295593), ('multiparty', 0.6633890867233276)]\n",
      "query term :  what\n",
      "query term :  is\n",
      "query term :  a\n",
      "query term :  alm\n",
      "[('themselv', 0.6003239154815674), ('emigre', 0.5877663493156433), ('intercess', 0.584822416305542), ('grati', 0.5822167992591858), ('laymen', 0.5766727328300476)]\n",
      "query term :  what\n",
      "query term :  is\n",
      "query term :  the\n",
      "query term :  un\n",
      "query term :  fao\n"
     ]
    },
    {
     "name": "stderr",
     "output_type": "stream",
     "text": [
      "\r",
      " 84%|█████████████████████████████████████████████████████████████████████████████████████████████████████████████████████████████████████████████████████████████████████▏                               | 468/558 [00:15<00:02, 39.67it/s]"
     ]
    },
    {
     "name": "stdout",
     "output_type": "stream",
     "text": [
      "[('saouma', 0.6956378221511841), ('madeley', 0.6232161521911621), ('serageldin', 0.6125187277793884), ('cgiar', 0.6067589521408081), ('muthoo', 0.5995945334434509)]\n",
      "query term :  how\n",
      "query term :  doe\n",
      "[('ani', 0.9097920060157776), ('thi', 0.9078466296195984), ('mean', 0.9038177728652954), ('becaus', 0.8862507343292236), ('believ', 0.8820438981056213)]\n",
      "query term :  granul\n",
      "[('unbleach', 0.7729713916778564), ('cornstarch', 0.7668273448944092), ('superfin', 0.7625916600227356), ('unsweeten', 0.751809298992157), ('parboil', 0.7513763904571533)]\n",
      "query term :  tissu\n",
      "[('endotheli', 0.7057860493659973), ('epiderm', 0.6929787993431091), ('pituitari', 0.6919828057289124), ('excret', 0.6911090016365051), ('mucou', 0.689116358757019)]\n",
      "query term :  start\n"
     ]
    },
    {
     "name": "stderr",
     "output_type": "stream",
     "text": [
      " 85%|████████████████████████████████████████████████████████████████████████████████████████████████████████████████████████████████████████████████████████████████████████▍                            | 477/558 [00:15<00:02, 35.39it/s]"
     ]
    },
    {
     "name": "stdout",
     "output_type": "stream",
     "text": [
      "[('come', 0.8742443323135376), ('anoth', 0.8654880523681641), ('way', 0.8643683195114136), ('rest', 0.8607974052429199), ('sinc', 0.8602047562599182)]\n",
      "query term :  what\n",
      "query term :  is\n",
      "query term :  a\n",
      "query term :  statutori\n",
      "[('statutorili', 0.7789386510848999), ('preclus', 0.7546118497848511), ('provis', 0.7540976405143738), ('overaward', 0.753631591796875), ('requir', 0.7522847652435303)]\n",
      "query term :  deed\n",
      "[('quitclaim', 0.7351135611534119), ('nitpick', 0.6854093074798584), ('encumbr', 0.6597480177879333), ('understand', 0.6547626256942749), ('true', 0.6541516184806824)]\n",
      "query term :  what\n",
      "query term :  carvedilol\n",
      "query term :  use\n",
      "[('onli', 0.8584811091423035), ('addit', 0.8304161429405212), ('appli', 0.8240385055541992), ('exampl', 0.8160594701766968), ('need', 0.8088236451148987)]\n",
      "query term :  for\n",
      "query term :  what\n",
      "query term :  is\n",
      "query term :  mamey\n"
     ]
    },
    {
     "name": "stderr",
     "output_type": "stream",
     "text": [
      " 87%|████████████████████████████████████████████████████████████████████████████████████████████████████████████████████████████████████████████████████████████████████████████▎                        | 488/558 [00:15<00:01, 35.90it/s]"
     ]
    },
    {
     "name": "stdout",
     "output_type": "stream",
     "text": [
      "[('arcila', 0.8949996829032898), ('abbel', 0.8949964642524719), ('gavira', 0.8901051878929138), ('villamizar', 0.8898128867149353), ('potosm', 0.8889901638031006)]\n",
      "query term :  how\n",
      "query term :  old\n",
      "[('onc', 0.819718599319458), ('ago', 0.8188199400901794), ('like', 0.8149883151054382), ('anoth', 0.8104189038276672), ('man', 0.8067759275436401)]\n",
      "query term :  is\n",
      "query term :  vanessa\n",
      "[('houlder', 0.9038893580436707), ('speyhawk', 0.5462985038757324), ('eandnab', 0.5370218753814697), ('stanhop', 0.532467782497406), ('FT942-8156', 0.5261379480361938)]\n",
      "query term :  redgrav\n",
      "[('anjelica', 0.7048935890197754), ('actress', 0.6936581134796143), ('lettic', 0.6901783347129822), ('gielgud', 0.6884792447090149), ('uhri', 0.6826834678649902)]\n",
      "query term :  averag\n"
     ]
    },
    {
     "name": "stderr",
     "output_type": "stream",
     "text": [
      "\r",
      " 88%|█████████████████████████████████████████████████████████████████████████████████████████████████████████████████████████████████████████████████████████████████████████████▋                       | 492/558 [00:16<00:02, 28.52it/s]"
     ]
    },
    {
     "name": "stdout",
     "output_type": "stream",
     "text": [
      "[('lowest', 0.8053615093231201), ('percentag', 0.8023721575737), ('total', 0.7872267961502075), ('compar', 0.7867040038108826), ('year', 0.7656527757644653)]\n",
      "query term :  annual\n",
      "[('year', 0.8014371991157532), ('total', 0.8013734817504883), ('estim', 0.7922936081886292), ('cost', 0.7857218980789185), ('yearli', 0.7769145965576172)]\n",
      "query term :  incom\n",
      "[('tax', 0.8188992738723755), ('revenu', 0.7964631915092468), ('spendabl', 0.7879111170768738), ('claimabl', 0.7616305351257324), ('payment', 0.7582429051399231)]\n",
      "query term :  data\n",
      "[('indic', 0.7376967072486877), ('dataset', 0.7342763543128967), ('hardcopi', 0.7266361117362976), ('statist', 0.7237496972084045), ('aiag', 0.7201834321022034)]\n",
      "query term :  analyst\n"
     ]
    },
    {
     "name": "stderr",
     "output_type": "stream",
     "text": [
      "\r",
      " 89%|███████████████████████████████████████████████████████████████████████████████████████████████████████████████████████████████████████████████████████████████████████████████                      | 496/558 [00:16<00:02, 30.00it/s]"
     ]
    },
    {
     "name": "stdout",
     "output_type": "stream",
     "text": [
      "[('expect', 0.7662707567214966), ('forecast', 0.7617369890213013), ('predict', 0.755503237247467), ('bullish', 0.7492733001708984), ('sharpli', 0.7437876462936401)]\n",
      "query term :  what\n",
      "query term :  are\n",
      "query term :  best\n",
      "[('better', 0.8702634572982788), ('alway', 0.8497808575630188), ('come', 0.8470752239227295), ('like', 0.8460804224014282), ('anoth', 0.8439217209815979)]\n",
      "query term :  food\n",
      "[('nutriti', 0.6902750730514526), ('pepperidg', 0.6836386322975159), ('babyfood', 0.6724278330802917), ('nonalcohol', 0.6709733605384827), ('meat', 0.6667301058769226)]\n",
      "query term :  to\n",
      "query term :  lower\n",
      "[('higher', 0.8762128949165344), ('low', 0.8177271485328674), ('reduc', 0.8170253038406372), ('fall', 0.8152346611022949), ('increas', 0.8097273707389832)]\n",
      "query term :  cholesterol\n"
     ]
    },
    {
     "name": "stderr",
     "output_type": "stream",
     "text": [
      " 90%|█████████████████████████████████████████████████████████████████████████████████████████████████████████████████████████████████████████████████████████████████████████████████▉                   | 504/558 [00:16<00:01, 29.13it/s]"
     ]
    },
    {
     "name": "stdout",
     "output_type": "stream",
     "text": [
      "[('ldl', 0.7933273911476135), ('calori', 0.761006236076355), ('polyunsatur', 0.7603747844696045), ('monounsatur', 0.7596924304962158), ('hdl', 0.7509983777999878)]\n",
      "query term :  who\n",
      "query term :  is\n",
      "query term :  aziz\n",
      "[('tariq', 0.788116455078125), ('abd', 0.7343404293060303), ('ghani', 0.7258067727088928), ('qaysi', 0.7141943573951721), ('khudayyir', 0.7118430733680725)]\n",
      "query term :  hashim\n",
      "[('khawajah', 0.743828535079956), ('hafidh', 0.7356271743774414), ('ghanim', 0.7318853735923767), ('mursi', 0.7275203466415405), ('nahyan', 0.7233142852783203)]\n",
      "query term :  differ\n",
      "[('kind', 0.8719528317451477), ('way', 0.8681896924972534), ('doe', 0.8663068413734436), ('becaus', 0.8652352690696716), ('mean', 0.8631829619407654)]\n",
      "query term :  between\n",
      "query term :  a\n",
      "query term :  hotel\n"
     ]
    },
    {
     "name": "stderr",
     "output_type": "stream",
     "text": [
      " 92%|████████████████████████████████████████████████████████████████████████████████████████████████████████████████████████████████████████████████████████████████████████████████████▊                | 512/558 [00:16<00:01, 31.87it/s]"
     ]
    },
    {
     "name": "stdout",
     "output_type": "stream",
     "text": [
      "[('sheraton', 0.7479183077812195), ('hostelri', 0.7436163425445557), ('sofitel', 0.7234414219856262), ('hoteli', 0.7216253876686096), ('slavyanskaya', 0.7136401534080505)]\n",
      "query term :  and\n",
      "query term :  motel\n",
      "[('hotel', 0.6957374215126038), ('bodett', 0.6838625073432922), ('travelodg', 0.6510122418403625), ('inn', 0.6302921175956726), ('bunkhous', 0.6082178354263306)]\n",
      "query term :  whi\n",
      "[('know', 0.9161683320999146), ('anyth', 0.9082127213478088), ('explain', 0.9024418592453003), ('think', 0.8979377746582031), ('thing', 0.8961999416351318)]\n",
      "query term :  did\n",
      "query term :  the\n",
      "query term :  ancient\n",
      "[('neolith', 0.7558825612068176), ('babylonian', 0.7497719526290894), ('parthenon', 0.729997992515564), ('hellenist', 0.722972571849823), ('paleolith', 0.7135679125785828)]\n",
      "query term :  egyptian\n"
     ]
    },
    {
     "name": "stderr",
     "output_type": "stream",
     "text": [
      " 93%|███████████████████████████████████████████████████████████████████████████████████████████████████████████████████████████████████████████████████████████████████████████████████████▌             | 520/558 [00:17<00:01, 33.55it/s]"
     ]
    },
    {
     "name": "stdout",
     "output_type": "stream",
     "text": [
      "[('egypt', 0.8476756811141968), ('cairo', 0.7817530035972595), ('mubarak', 0.7720966339111328), ('safwat', 0.7451422214508057), ('hosni', 0.7399705052375793)]\n",
      "query term :  call\n",
      "query term :  their\n",
      "query term :  land\n",
      "[('unimprov', 0.7294658422470093), ('inhold', 0.7236220240592957), ('landownership', 0.7169870138168335), ('area', 0.7080006003379822), ('townsit', 0.6947832107543945)]\n",
      "query term :  kemet\n",
      "[('worlco', 0.9106124043464661), ('bioreleas', 0.9076396226882935), ('normar', 0.9033865332603455), ('servam', 0.9024711847305298), ('vocaltech', 0.8995981812477112)]\n",
      "query term :  or\n",
      "query term :  black\n",
      "[('white', 0.7369115948677063), ('biraci', 0.6833253502845764), ('dashiki', 0.6562948822975159), ('armband', 0.6540584564208984), ('miscegen', 0.6362364888191223)]\n",
      "query term :  land?\n",
      "query term :  what\n",
      "query term :  doe\n"
     ]
    },
    {
     "name": "stderr",
     "output_type": "stream",
     "text": [
      " 95%|██████████████████████████████████████████████████████████████████████████████████████████████████████████████████████████████████████████████████████████████████████████████████████████▊          | 529/558 [00:17<00:00, 36.86it/s]"
     ]
    },
    {
     "name": "stdout",
     "output_type": "stream",
     "text": [
      "[('ani', 0.9097920060157776), ('thi', 0.9078466296195984), ('mean', 0.9038177728652954), ('becaus', 0.8862507343292236), ('believ', 0.8820438981056213)]\n",
      "query term :  it\n",
      "query term :  mean\n",
      "[('doe', 0.9038175940513611), ('thi', 0.8996317386627197), ('ani', 0.8979083895683289), ('howev', 0.8896620273590088), ('becaus', 0.8894392848014832)]\n",
      "query term :  if\n",
      "query term :  your\n",
      "query term :  tsh\n",
      "[('cavernosometri', 0.9231124520301819), ('hypophysiotrop', 0.9229799509048462), ('cavernosographi', 0.9210875034332275), ('thyrotrop', 0.9209267497062683), ('mesenchym', 0.9193788766860962)]\n",
      "query term :  is\n",
      "query term :  low\n",
      "[('high', 0.8190638422966003), ('lower', 0.8177272081375122), ('higher', 0.7940928936004639), ('level', 0.7888586521148682), ('lowest', 0.7778663635253906)]\n",
      "query term :  do\n",
      "query term :  googl\n"
     ]
    },
    {
     "name": "stderr",
     "output_type": "stream",
     "text": [
      " 96%|█████████████████████████████████████████████████████████████████████████████████████████████████████████████████████████████████████████████████████████████████████████████████████████████▌       | 537/558 [00:17<00:00, 31.07it/s]"
     ]
    },
    {
     "name": "stdout",
     "output_type": "stream",
     "text": [
      "[('ccjcsadkft', 0.8870651721954346), ('blrim', 0.8826817274093628), ('levkovich', 0.8796910643577576), ('paulen', 0.8747689723968506), ('franka', 0.8723361492156982)]\n",
      "query term :  doc\n",
      "[('code', 0.7634252309799194), ('hyph', 0.7351839542388916), ('fr', 0.7016240954399109), ('perciasep', 0.687261164188385), ('clagett', 0.6769675612449646)]\n",
      "query term :  auto\n",
      "[('automobil', 0.834602952003479), ('car', 0.7183647155761719), ('nummi', 0.7160339951515198), ('cnaic', 0.7061657905578613), ('automak', 0.6971641778945923)]\n",
      "query term :  save\n",
      "[('karbon', 0.7369397878646851), ('instead', 0.7298104763031006), ('anoth', 0.7247771620750427), ('cost', 0.7233210206031799), ('extra', 0.7194547653198242)]\n",
      "query term :  how\n",
      "query term :  often\n",
      "query term :  to\n",
      "query term :  button\n"
     ]
    },
    {
     "name": "stderr",
     "output_type": "stream",
     "text": [
      "\r",
      " 97%|██████████████████████████████████████████████████████████████████████████████████████████████████████████████████████████████████████████████████████████████████████████████████████████████▉      | 541/558 [00:17<00:00, 32.14it/s]"
     ]
    },
    {
     "name": "stdout",
     "output_type": "stream",
     "text": [
      "[('lapel', 0.6788585186004639), ('earpiec', 0.6786417365074158), ('zipper', 0.6651297807693481), ('sleeveless', 0.6620048880577087), ('velcro', 0.6602900624275208)]\n",
      "query term :  quail\n",
      "[('bobwhit', 0.6939443349838257), ('cottontail', 0.6938030123710632), ('gizzard', 0.6904704570770264), ('elderberri', 0.6815058588981628), ('squab', 0.6815041899681091)]\n",
      "query term :  lay\n",
      "[('laid', 0.883568286895752), ('come', 0.7709207534790039), ('bring', 0.7704715132713318), ('groundwork', 0.7673065662384033), ('way', 0.7637232542037964)]\n",
      "query term :  egg\n",
      "[('yolk', 0.7483066916465759), ('almiyi', 0.7118551731109619), ('uncook', 0.6855084300041199), ('mcmuffin', 0.6845923662185669), ('cornmeal', 0.6830580234527588)]\n",
      "query term :  differ\n"
     ]
    },
    {
     "name": "stderr",
     "output_type": "stream",
     "text": [
      " 99%|██████████████████████████████████████████████████████████████████████████████████████████████████████████████████████████████████████████████████████████████████████████████████████████████████▏  | 550/558 [00:17<00:00, 32.08it/s]"
     ]
    },
    {
     "name": "stdout",
     "output_type": "stream",
     "text": [
      "[('kind', 0.8719528317451477), ('way', 0.8681896924972534), ('doe', 0.8663068413734436), ('becaus', 0.8652352690696716), ('mean', 0.8631829619407654)]\n",
      "query term :  between\n",
      "query term :  a\n",
      "query term :  company'\n",
      "query term :  strategi\n",
      "[('aim', 0.7866325378417969), ('focus', 0.7750259041786194), ('plan', 0.7727310061454773), ('effort', 0.7713293433189392), ('approach', 0.770165205001831)]\n",
      "query term :  and\n",
      "query term :  busi\n",
      "[('firm', 0.7501569390296936), ('profit', 0.7351495027542114), ('financi', 0.7314045429229736), ('incentivis', 0.7313731908798218), ('compani', 0.7306159138679504)]\n",
      "query term :  model\n",
      "[('design', 0.7395058870315552), ('subconfigur', 0.7381959557533264), ('exampl', 0.7352234125137329), ('similar', 0.7203186750411987), ('ntea', 0.7200297713279724)]\n",
      "query term :  is\n",
      "query term :  can\n",
      "query term :  fever\n"
     ]
    },
    {
     "name": "stderr",
     "output_type": "stream",
     "text": [
      "\r",
      " 99%|███████████████████████████████████████████████████████████████████████████████████████████████████████████████████████████████████████████████████████████████████████████████████████████████████▌ | 554/558 [00:18<00:00, 32.73it/s]"
     ]
    },
    {
     "name": "stdout",
     "output_type": "stream",
     "text": [
      "[('outbreak', 0.6545488238334656), ('lassa', 0.6238906383514404), ('symptom', 0.6215236783027649), ('cough', 0.6211711764335632), ('dengu', 0.6139056086540222)]\n",
      "query term :  caus\n",
      "[('becaus', 0.8200801014900208), ('occur', 0.812697172164917), ('sever', 0.8048741817474365), ('result', 0.7993423938751221), ('affect', 0.7967783212661743)]\n",
      "query term :  miscarriag\n",
      "[('stillbirth', 0.6914690136909485), ('ognal', 0.6798649430274963), ('tubal', 0.6689441800117493), ('gaudet', 0.6653184294700623), ('miscarri', 0.6573470830917358)]\n",
      "query term :  earli\n",
      "[('week', 0.877101480960846), ('sinc', 0.8737747073173523), ('began', 0.8693572282791138), ('befor', 0.8654952049255371), ('wa', 0.8617166876792908)]\n",
      "query term :  pregnanc\n"
     ]
    },
    {
     "name": "stderr",
     "output_type": "stream",
     "text": [
      "100%|█████████████████████████████████████████████████████████████████████████████████████████████████████████████████████████████████████████████████████████████████████████████████████████████████████| 558/558 [00:18<00:00, 30.53it/s]"
     ]
    },
    {
     "name": "stdout",
     "output_type": "stream",
     "text": [
      "[('pregnant', 0.8244889378547668), ('childbirth', 0.7837566137313843), ('fetu', 0.7825204133987427), ('ectop', 0.7590824365615845), ('prenat', 0.7572058439254761)]\n",
      "dictionary ready...\n"
     ]
    },
    {
     "name": "stderr",
     "output_type": "stream",
     "text": [
      "\n"
     ]
    }
   ],
   "source": [
    "for term in tqdm(original_query_list):\n",
    "    # if term not in ['am', '103', 'three', 'u.s.']:\n",
    "        print('query term : ', term)\n",
    "        try:\n",
    "            vector = model.most_similar(positive=[term], topn=5)\n",
    "        except KeyError:\n",
    "            continue\n",
    "        qterm_NN_dict[term] = vector\n",
    "        print(vector)\n",
    "        nn_list = []\n",
    "        for nn_term in vector:\n",
    "            nn_list.append(nn_term[0])\n",
    "        qterm_NN_dict[term] = nn_list\n",
    "print('dictionary ready...')\n",
    "\n"
   ]
  },
  {
   "cell_type": "code",
   "execution_count": 8,
   "id": "887c00d7",
   "metadata": {},
   "outputs": [],
   "source": [
    "for key in qterm_NN_dict:\n",
    "    fw_NN_terms.writelines(str(key) + '\\t')\n",
    "    for nn in qterm_NN_dict[key]:\n",
    "        fw_NN_terms.writelines(str(nn) + ',')\n",
    "    fw_NN_terms.write('\\n')"
   ]
  },
  {
   "cell_type": "code",
   "execution_count": null,
   "id": "9d5eec27",
   "metadata": {},
   "outputs": [],
   "source": []
  }
 ],
 "metadata": {
  "kernelspec": {
   "display_name": "Python 3 (ipykernel)",
   "language": "python",
   "name": "python3"
  },
  "language_info": {
   "codemirror_mode": {
    "name": "ipython",
    "version": 3
   },
   "file_extension": ".py",
   "mimetype": "text/x-python",
   "name": "python",
   "nbconvert_exporter": "python",
   "pygments_lexer": "ipython3",
   "version": "3.7.9"
  }
 },
 "nbformat": 4,
 "nbformat_minor": 5
}
